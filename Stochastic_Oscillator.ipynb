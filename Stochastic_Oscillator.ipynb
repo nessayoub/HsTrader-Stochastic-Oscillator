{
  "nbformat": 4,
  "nbformat_minor": 0,
  "metadata": {
    "colab": {
      "provenance": []
    },
    "kernelspec": {
      "name": "python3",
      "display_name": "Python 3"
    },
    "language_info": {
      "name": "python"
    }
  },
  "cells": [
    {
      "cell_type": "code",
      "execution_count": null,
      "metadata": {
        "colab": {
          "base_uri": "https://localhost:8080/"
        },
        "id": "_kG6eMWegTwE",
        "outputId": "235cf2bf-ed62-4e3e-84fe-206b60cfbfdd"
      },
      "outputs": [
        {
          "output_type": "stream",
          "name": "stdout",
          "text": [
            "Collecting hstrader\n",
            "  Downloading hstrader-1.0.4-py3-none-any.whl (26 kB)\n",
            "Requirement already satisfied: pydantic in /usr/local/lib/python3.10/dist-packages (from hstrader) (2.8.2)\n",
            "Requirement already satisfied: requests in /usr/local/lib/python3.10/dist-packages (from hstrader) (2.31.0)\n",
            "Collecting websockets (from hstrader)\n",
            "  Downloading websockets-12.0-cp310-cp310-manylinux_2_5_x86_64.manylinux1_x86_64.manylinux_2_17_x86_64.manylinux2014_x86_64.whl (130 kB)\n",
            "\u001b[2K     \u001b[90m━━━━━━━━━━━━━━━━━━━━━━━━━━━━━━━━━━━━━━━━\u001b[0m \u001b[32m130.2/130.2 kB\u001b[0m \u001b[31m2.5 MB/s\u001b[0m eta \u001b[36m0:00:00\u001b[0m\n",
            "\u001b[?25hRequirement already satisfied: annotated-types>=0.4.0 in /usr/local/lib/python3.10/dist-packages (from pydantic->hstrader) (0.7.0)\n",
            "Requirement already satisfied: pydantic-core==2.20.1 in /usr/local/lib/python3.10/dist-packages (from pydantic->hstrader) (2.20.1)\n",
            "Requirement already satisfied: typing-extensions>=4.6.1 in /usr/local/lib/python3.10/dist-packages (from pydantic->hstrader) (4.12.2)\n",
            "Requirement already satisfied: charset-normalizer<4,>=2 in /usr/local/lib/python3.10/dist-packages (from requests->hstrader) (3.3.2)\n",
            "Requirement already satisfied: idna<4,>=2.5 in /usr/local/lib/python3.10/dist-packages (from requests->hstrader) (3.7)\n",
            "Requirement already satisfied: urllib3<3,>=1.21.1 in /usr/local/lib/python3.10/dist-packages (from requests->hstrader) (2.0.7)\n",
            "Requirement already satisfied: certifi>=2017.4.17 in /usr/local/lib/python3.10/dist-packages (from requests->hstrader) (2024.7.4)\n",
            "Installing collected packages: websockets, hstrader\n",
            "Successfully installed hstrader-1.0.4 websockets-12.0\n"
          ]
        }
      ],
      "source": [
        "!pip install hstrader"
      ]
    },
    {
      "cell_type": "code",
      "source": [
        "from hstrader import HsTrader\n",
        "from hstrader.models import Event, Tick, Order, CrtOrder, OrderType, SideType, Status, Position, Resolution\n",
        "import pandas as pd\n",
        "import numpy as np\n",
        "import matplotlib.pyplot as plt\n",
        "import plotly as"
      ],
      "metadata": {
        "id": "65VCj5DwhEF3"
      },
      "execution_count": null,
      "outputs": []
    },
    {
      "cell_type": "code",
      "source": [
        "CLIENT_ID = \"24100180_8073259861\"\n",
        "SECRET = \"dd2c318e96ed8cbdf66479bac04529d9e29b4a3da9d8deb634ec686358009100\"\n",
        "\n",
        "client = HsTrader(CLIENT_ID, SECRET)"
      ],
      "metadata": {
        "id": "CY3qk04XjW8L"
      },
      "execution_count": null,
      "outputs": []
    },
    {
      "cell_type": "code",
      "source": [
        "symbol = client.get_symbol(\"EURUSD\")\n",
        "data = client.get_market_history(symbol, resolution=Resolution.D1,count_back = 1000)\n",
        "print(data)"
      ],
      "metadata": {
        "colab": {
          "base_uri": "https://localhost:8080/"
        },
        "id": "2ez6JQrbj0k0",
        "outputId": "4f9437cc-29a7-425e-8a9f-b5821d859b2c"
      },
      "execution_count": null,
      "outputs": [
        {
          "output_type": "stream",
          "name": "stdout",
          "text": [
            "[HistoryTick(time=datetime.datetime(2024, 3, 3, 23, 59, tzinfo=TzInfo(UTC)), open=1.08368, high=1.08413, low=1.08368, close=1.08385, volume=2356.716606889623), HistoryTick(time=datetime.datetime(2024, 3, 4, 0, 0, tzinfo=TzInfo(UTC)), open=1.08385, high=1.08669, low=1.08385, close=1.0854, volume=3716923.561634854), HistoryTick(time=datetime.datetime(2024, 3, 5, 0, 0, tzinfo=TzInfo(UTC)), open=1.0854, high=1.08758, low=1.08397, close=1.08548, volume=6193221.129927558), HistoryTick(time=datetime.datetime(2024, 3, 6, 0, 0, tzinfo=TzInfo(UTC)), open=1.08548, high=1.09153, low=1.08413, close=1.0899, volume=6243878.681543007), HistoryTick(time=datetime.datetime(2024, 3, 7, 0, 0, tzinfo=TzInfo(UTC)), open=1.0899, high=1.09512, low=1.08673, close=1.09507, volume=6268019.919567308), HistoryTick(time=datetime.datetime(2024, 3, 8, 0, 0, tzinfo=TzInfo(UTC)), open=1.09507, high=1.09805, low=1.09195, close=1.09394, volume=5810295.536567713), HistoryTick(time=datetime.datetime(2024, 3, 9, 0, 0, tzinfo=TzInfo(UTC)), open=1.09394, high=1.0943, low=1.09359, close=1.0938, volume=21978.94698169027), HistoryTick(time=datetime.datetime(2024, 3, 11, 0, 0, tzinfo=TzInfo(UTC)), open=1.0938, high=1.09481, low=1.09141, close=1.09307, volume=4191797.1302495864), HistoryTick(time=datetime.datetime(2024, 3, 12, 0, 0, tzinfo=TzInfo(UTC)), open=1.09307, high=1.09435, low=1.09016, close=1.09265, volume=6115051.532943284), HistoryTick(time=datetime.datetime(2024, 3, 13, 0, 0, tzinfo=TzInfo(UTC)), open=1.09265, high=1.09637, low=1.09194, close=1.09523, volume=6232408.86697381), HistoryTick(time=datetime.datetime(2024, 3, 14, 0, 0, tzinfo=TzInfo(UTC)), open=1.09523, high=1.09548, low=1.08798, close=1.08825, volume=6165890.237666983), HistoryTick(time=datetime.datetime(2024, 3, 15, 0, 0, tzinfo=TzInfo(UTC)), open=1.08825, high=1.08996, low=1.08721, close=1.08874, volume=5566926.905385572), HistoryTick(time=datetime.datetime(2024, 3, 16, 0, 0, tzinfo=TzInfo(UTC)), open=1.08874, high=1.0892, low=1.08839, close=1.08873, volume=33109.20489650979), HistoryTick(time=datetime.datetime(2024, 3, 18, 0, 0, tzinfo=TzInfo(UTC)), open=1.08873, high=1.09061, low=1.08657, close=1.08729, volume=6060323.898437485), HistoryTick(time=datetime.datetime(2024, 3, 19, 0, 0, tzinfo=TzInfo(UTC)), open=1.08729, high=1.08765, low=1.08342, close=1.08617, volume=6208728.715640978), HistoryTick(time=datetime.datetime(2024, 3, 20, 0, 0, tzinfo=TzInfo(UTC)), open=1.08617, high=1.09374, low=1.0836, close=1.0937, volume=6251796.704374901), HistoryTick(time=datetime.datetime(2024, 3, 21, 0, 0, tzinfo=TzInfo(UTC)), open=1.0937, high=1.09426, low=1.08546, close=1.08619, volume=6196065.463745984), HistoryTick(time=datetime.datetime(2024, 3, 22, 0, 0, tzinfo=TzInfo(UTC)), open=1.08619, high=1.0868, low=1.08011, close=1.0808, volume=5529345.593874001), HistoryTick(time=datetime.datetime(2024, 3, 23, 0, 0, tzinfo=TzInfo(UTC)), open=1.0808, high=1.08103, low=1.0802, close=1.08072, volume=523416.8901419749), HistoryTick(time=datetime.datetime(2024, 3, 25, 0, 0, tzinfo=TzInfo(UTC)), open=1.08072, high=1.08424, low=1.08013, close=1.08367, volume=6110321.110588709), HistoryTick(time=datetime.datetime(2024, 3, 26, 0, 0, tzinfo=TzInfo(UTC)), open=1.08367, high=1.08642, low=1.08235, close=1.08324, volume=6070885.043591999), HistoryTick(time=datetime.datetime(2024, 3, 27, 0, 0, tzinfo=TzInfo(UTC)), open=1.08324, high=1.0839, low=1.08093, close=1.08124, volume=6197579.434031731), HistoryTick(time=datetime.datetime(2024, 3, 28, 0, 0, tzinfo=TzInfo(UTC)), open=1.08124, high=1.08265, low=1.07743, close=1.07912, volume=6107157.779806017), HistoryTick(time=datetime.datetime(2024, 3, 29, 0, 0, tzinfo=TzInfo(UTC)), open=1.07912, high=1.08048, low=1.0767, close=1.0791, volume=4995551.354320908), HistoryTick(time=datetime.datetime(2024, 3, 30, 0, 0, tzinfo=TzInfo(UTC)), open=1.0791, high=1.0797, low=1.0784, close=1.07924, volume=608013.9362475502), HistoryTick(time=datetime.datetime(2024, 4, 1, 0, 0, tzinfo=TzInfo(UTC)), open=1.07924, high=1.07987, low=1.07302, close=1.0737, volume=6035680.985106746), HistoryTick(time=datetime.datetime(2024, 4, 2, 0, 0, tzinfo=TzInfo(UTC)), open=1.0737, high=1.0779, low=1.07241, close=1.07672, volume=6030634.456174883), HistoryTick(time=datetime.datetime(2024, 4, 3, 0, 0, tzinfo=TzInfo(UTC)), open=1.07672, high=1.08407, low=1.07633, close=1.0838, volume=6178900.458423368), HistoryTick(time=datetime.datetime(2024, 4, 4, 0, 0, tzinfo=TzInfo(UTC)), open=1.0838, high=1.08766, low=1.08311, close=1.08357, volume=6249478.586360154), HistoryTick(time=datetime.datetime(2024, 4, 5, 0, 0, tzinfo=TzInfo(UTC)), open=1.08357, high=1.0848, low=1.07907, close=1.08357, volume=5591728.015465749), HistoryTick(time=datetime.datetime(2024, 4, 6, 0, 0, tzinfo=TzInfo(UTC)), open=1.08357, high=1.0843, low=1.08264, close=1.08295, volume=633466.2593754936), HistoryTick(time=datetime.datetime(2024, 4, 8, 0, 0, tzinfo=TzInfo(UTC)), open=1.08295, high=1.08633, low=1.08202, close=1.08621, volume=6131388.680749177), HistoryTick(time=datetime.datetime(2024, 4, 9, 0, 0, tzinfo=TzInfo(UTC)), open=1.08621, high=1.0885, low=1.08469, close=1.08585, volume=6123110.707101276), HistoryTick(time=datetime.datetime(2024, 4, 10, 0, 0, tzinfo=TzInfo(UTC)), open=1.08585, high=1.08661, low=1.07281, close=1.07412, volume=6057167.739884695), HistoryTick(time=datetime.datetime(2024, 4, 11, 0, 0, tzinfo=TzInfo(UTC)), open=1.07412, high=1.07565, low=1.06988, close=1.07259, volume=6076086.232129682), HistoryTick(time=datetime.datetime(2024, 4, 12, 0, 0, tzinfo=TzInfo(UTC)), open=1.07259, high=1.07281, low=1.06219, close=1.06403, volume=5505699.052569614), HistoryTick(time=datetime.datetime(2024, 4, 13, 0, 0, tzinfo=TzInfo(UTC)), open=1.06403, high=1.06514, low=1.063, close=1.06457, volume=598378.919673866), HistoryTick(time=datetime.datetime(2024, 4, 15, 0, 0, tzinfo=TzInfo(UTC)), open=1.06457, high=1.06651, low=1.06194, close=1.06245, volume=6145889.622130069), HistoryTick(time=datetime.datetime(2024, 4, 16, 0, 0, tzinfo=TzInfo(UTC)), open=1.06245, high=1.06536, low=1.06008, close=1.06202, volume=6168859.841768535), HistoryTick(time=datetime.datetime(2024, 4, 17, 0, 0, tzinfo=TzInfo(UTC)), open=1.06202, high=1.06794, low=1.06059, close=1.06685, volume=6073589.904467516), HistoryTick(time=datetime.datetime(2024, 4, 18, 0, 0, tzinfo=TzInfo(UTC)), open=1.06685, high=1.069, low=1.06394, close=1.06426, volume=6028814.28035635), HistoryTick(time=datetime.datetime(2024, 4, 19, 0, 0, tzinfo=TzInfo(UTC)), open=1.06426, high=1.06775, low=1.06101, close=1.06559, volume=5588352.553111917), HistoryTick(time=datetime.datetime(2024, 4, 20, 0, 0, tzinfo=TzInfo(UTC)), open=1.06559, high=1.06631, low=1.06491, close=1.06575, volume=540463.0202037229), HistoryTick(time=datetime.datetime(2024, 4, 22, 0, 0, tzinfo=TzInfo(UTC)), open=1.06575, high=1.06706, low=1.06233, close=1.06539, volume=5993479.239663451), HistoryTick(time=datetime.datetime(2024, 4, 23, 0, 0, tzinfo=TzInfo(UTC)), open=1.06539, high=1.07112, low=1.06378, close=1.07016, volume=5962631.763025738), HistoryTick(time=datetime.datetime(2024, 4, 24, 0, 0, tzinfo=TzInfo(UTC)), open=1.07016, high=1.0714, low=1.06773, close=1.06999, volume=5969278.873660772), HistoryTick(time=datetime.datetime(2024, 4, 25, 0, 0, tzinfo=TzInfo(UTC)), open=1.06999, high=1.074, low=1.06778, close=1.0727, volume=5912269.50596406), HistoryTick(time=datetime.datetime(2024, 4, 26, 0, 0, tzinfo=TzInfo(UTC)), open=1.0727, high=1.07527, low=1.06736, close=1.06934, volume=5397577.225738642), HistoryTick(time=datetime.datetime(2024, 4, 27, 0, 0, tzinfo=TzInfo(UTC)), open=1.06934, high=1.0707, low=1.06891, close=1.07069, volume=498718.3454322703), HistoryTick(time=datetime.datetime(2024, 4, 29, 0, 0, tzinfo=TzInfo(UTC)), open=1.07069, high=1.07336, low=1.06896, close=1.07145, volume=6018051.083144259), HistoryTick(time=datetime.datetime(2024, 4, 30, 0, 0, tzinfo=TzInfo(UTC)), open=1.07145, high=1.07353, low=1.06628, close=1.06651, volume=6057243.285881152), HistoryTick(time=datetime.datetime(2024, 5, 1, 0, 0, tzinfo=TzInfo(UTC)), open=1.06651, high=1.07325, low=1.06488, close=1.07167, volume=6017361.048152093), HistoryTick(time=datetime.datetime(2024, 5, 2, 0, 0, tzinfo=TzInfo(UTC)), open=1.07167, high=1.07308, low=1.06739, close=1.07295, volume=6107217.634924777), HistoryTick(time=datetime.datetime(2024, 5, 3, 0, 0, tzinfo=TzInfo(UTC)), open=1.07295, high=1.08108, low=1.07236, close=1.07621, volume=5377374.461343506), HistoryTick(time=datetime.datetime(2024, 5, 4, 0, 0, tzinfo=TzInfo(UTC)), open=1.07621, high=1.0765, low=1.07568, close=1.07579, volume=474703.5352920161), HistoryTick(time=datetime.datetime(2024, 5, 6, 0, 0, tzinfo=TzInfo(UTC)), open=1.07579, high=1.07875, low=1.07544, close=1.07671, volume=5614366.884866317), HistoryTick(time=datetime.datetime(2024, 5, 7, 0, 0, tzinfo=TzInfo(UTC)), open=1.07671, high=1.07874, low=1.07468, close=1.07499, volume=5973968.579406764), HistoryTick(time=datetime.datetime(2024, 5, 8, 0, 0, tzinfo=TzInfo(UTC)), open=1.07499, high=1.07573, low=1.07335, close=1.07467, volume=5912636.119289641), HistoryTick(time=datetime.datetime(2024, 5, 9, 0, 0, tzinfo=TzInfo(UTC)), open=1.07467, high=1.0786, low=1.07237, close=1.07816, volume=5782810.614722175), HistoryTick(time=datetime.datetime(2024, 5, 10, 0, 0, tzinfo=TzInfo(UTC)), open=1.07816, high=1.079, low=1.07597, close=1.07685, volume=5315375.5514178295), HistoryTick(time=datetime.datetime(2024, 5, 11, 0, 0, tzinfo=TzInfo(UTC)), open=1.07685, high=1.07751, low=1.07658, close=1.07701, volume=488039.1944470984), HistoryTick(time=datetime.datetime(2024, 5, 13, 0, 0, tzinfo=TzInfo(UTC)), open=1.07701, high=1.08067, low=1.07652, close=1.0792, volume=5750490.785775459), HistoryTick(time=datetime.datetime(2024, 5, 14, 0, 0, tzinfo=TzInfo(UTC)), open=1.0792, high=1.08103, low=1.07664, close=1.08054, volume=3171552.2147172783), HistoryTick(time=datetime.datetime(2024, 5, 15, 0, 0, tzinfo=TzInfo(UTC)), open=1.08054, high=1.5, low=1.0, close=1.08677, volume=3366429.4667025455), HistoryTick(time=datetime.datetime(2024, 5, 17, 0, 0, tzinfo=TzInfo(UTC)), open=1.08677, high=1.08784, low=1.0835, close=1.08691, volume=5207061.206968351), HistoryTick(time=datetime.datetime(2024, 5, 18, 0, 0, tzinfo=TzInfo(UTC)), open=1.08691, high=1.08742, low=1.08619, close=1.0872, volume=455987.13932391617), HistoryTick(time=datetime.datetime(2024, 5, 20, 0, 0, tzinfo=TzInfo(UTC)), open=1.0872, high=1.08845, low=1.0853, close=1.08603, volume=5662456.59339102), HistoryTick(time=datetime.datetime(2024, 5, 21, 0, 0, tzinfo=TzInfo(UTC)), open=1.08603, high=1.08747, low=1.08424, close=1.0854, volume=5604753.829905612), HistoryTick(time=datetime.datetime(2024, 5, 22, 0, 0, tzinfo=TzInfo(UTC)), open=1.0854, high=1.08634, low=1.08166, close=1.08249, volume=5780262.110054286), HistoryTick(time=datetime.datetime(2024, 5, 23, 0, 0, tzinfo=TzInfo(UTC)), open=1.08249, high=1.0861, low=1.08041, close=1.08114, volume=5883657.06541293), HistoryTick(time=datetime.datetime(2024, 5, 24, 0, 0, tzinfo=TzInfo(UTC)), open=1.08114, high=1.08578, low=1.08048, close=1.08453, volume=5304516.218181037), HistoryTick(time=datetime.datetime(2024, 5, 25, 0, 0, tzinfo=TzInfo(UTC)), open=1.08453, high=1.0852, low=1.08403, close=1.08457, volume=451688.7558170841), HistoryTick(time=datetime.datetime(2024, 5, 27, 0, 0, tzinfo=TzInfo(UTC)), open=1.08457, high=1.08673, low=1.08399, close=1.08614, volume=4871880.888700108), HistoryTick(time=datetime.datetime(2024, 5, 28, 0, 0, tzinfo=TzInfo(UTC)), open=1.08614, high=1.08889, low=1.08504, close=1.08512, volume=5753725.562791042), HistoryTick(time=datetime.datetime(2024, 5, 29, 0, 0, tzinfo=TzInfo(UTC)), open=1.08512, high=1.08585, low=1.07987, close=1.08009, volume=5789707.137550028), HistoryTick(time=datetime.datetime(2024, 5, 30, 0, 0, tzinfo=TzInfo(UTC)), open=1.08009, high=1.0845, low=1.07875, close=1.08311, volume=5750294.866793148), HistoryTick(time=datetime.datetime(2024, 5, 31, 0, 0, tzinfo=TzInfo(UTC)), open=1.08311, high=1.08823, low=1.08103, close=1.08483, volume=5270794.0469584875), HistoryTick(time=datetime.datetime(2024, 6, 1, 0, 0, tzinfo=TzInfo(UTC)), open=1.08483, high=1.08544, low=1.0841, close=1.08525, volume=511129.47646105924), HistoryTick(time=datetime.datetime(2024, 6, 3, 0, 0, tzinfo=TzInfo(UTC)), open=1.08525, high=1.091, low=1.0827, close=1.09072, volume=5792672.435209497), HistoryTick(time=datetime.datetime(2024, 6, 4, 0, 0, tzinfo=TzInfo(UTC)), open=1.09072, high=1.09159, low=1.08587, close=1.08809, volume=5842072.276330105), HistoryTick(time=datetime.datetime(2024, 6, 5, 0, 0, tzinfo=TzInfo(UTC)), open=1.08809, high=1.08906, low=1.08536, close=1.0874, volume=5738366.489859247), HistoryTick(time=datetime.datetime(2024, 6, 6, 0, 0, tzinfo=TzInfo(UTC)), open=1.0874, high=1.09019, low=1.0862, close=1.08909, volume=5682327.937122404), HistoryTick(time=datetime.datetime(2024, 6, 7, 0, 0, tzinfo=TzInfo(UTC)), open=1.08909, high=1.09017, low=1.0798, close=1.08008, volume=5401784.723529079), HistoryTick(time=datetime.datetime(2024, 6, 8, 0, 0, tzinfo=TzInfo(UTC)), open=1.08008, high=1.08033, low=1.07627, close=1.0779, volume=641972.9333470244), HistoryTick(time=datetime.datetime(2024, 6, 10, 0, 0, tzinfo=TzInfo(UTC)), open=1.0779, high=1.07814, low=1.07322, close=1.07634, volume=5872716.516657135), HistoryTick(time=datetime.datetime(2024, 6, 11, 0, 0, tzinfo=TzInfo(UTC)), open=1.07634, high=1.07735, low=1.07191, close=1.07391, volume=5781371.144839641), HistoryTick(time=datetime.datetime(2024, 6, 12, 0, 0, tzinfo=TzInfo(UTC)), open=1.07391, high=1.08523, low=1.07338, close=1.08126, volume=5895532.012803535), HistoryTick(time=datetime.datetime(2024, 6, 13, 0, 0, tzinfo=TzInfo(UTC)), open=1.08126, high=1.08163, low=1.0732, close=1.07372, volume=5908686.9387134565), HistoryTick(time=datetime.datetime(2024, 6, 14, 0, 0, tzinfo=TzInfo(UTC)), open=1.07372, high=1.07448, low=1.06669, close=1.07011, volume=5336447.1365322145), HistoryTick(time=datetime.datetime(2024, 6, 15, 0, 0, tzinfo=TzInfo(UTC)), open=1.07011, high=1.07091, low=1.06966, close=1.07024, volume=525179.2475759741), HistoryTick(time=datetime.datetime(2024, 6, 17, 0, 0, tzinfo=TzInfo(UTC)), open=1.07024, high=1.0741, low=1.06857, close=1.07396, volume=5809781.609944428), HistoryTick(time=datetime.datetime(2024, 6, 18, 0, 0, tzinfo=TzInfo(UTC)), open=1.07396, high=1.07615, low=1.07094, close=1.07385, volume=5720874.242679183), HistoryTick(time=datetime.datetime(2024, 6, 19, 0, 0, tzinfo=TzInfo(UTC)), open=1.07385, high=1.07534, low=1.07242, close=1.07469, volume=5159518.978545148), HistoryTick(time=datetime.datetime(2024, 6, 20, 0, 0, tzinfo=TzInfo(UTC)), open=1.07469, high=1.0748, low=1.06996, close=1.07056, volume=5698150.809067651), HistoryTick(time=datetime.datetime(2024, 6, 21, 0, 0, tzinfo=TzInfo(UTC)), open=1.07056, high=1.07206, low=1.06701, close=1.06916, volume=5325666.27060688), HistoryTick(time=datetime.datetime(2024, 6, 22, 0, 0, tzinfo=TzInfo(UTC)), open=1.06916, high=1.06955, low=1.0682, close=1.06878, volume=518774.84484519315), HistoryTick(time=datetime.datetime(2024, 6, 24, 0, 0, tzinfo=TzInfo(UTC)), open=1.06878, high=1.07462, low=1.06829, close=1.07319, volume=5888112.821946024), HistoryTick(time=datetime.datetime(2024, 6, 25, 0, 0, tzinfo=TzInfo(UTC)), open=1.07319, high=1.07442, low=1.06905, close=1.07091, volume=5934053.375226197), HistoryTick(time=datetime.datetime(2024, 6, 26, 0, 0, tzinfo=TzInfo(UTC)), open=1.07091, high=1.07178, low=1.06653, close=1.06796, volume=5939570.953352791), HistoryTick(time=datetime.datetime(2024, 6, 27, 0, 0, tzinfo=TzInfo(UTC)), open=1.06796, high=1.07263, low=1.06764, close=1.07076, volume=5940738.342677648), HistoryTick(time=datetime.datetime(2024, 6, 28, 0, 0, tzinfo=TzInfo(UTC)), open=1.07076, high=1.07247, low=1.06849, close=1.07122, volume=4860624.994206509), HistoryTick(time=datetime.datetime(2024, 6, 29, 0, 0, tzinfo=TzInfo(UTC)), open=1.07122, high=1.07415, low=1.07122, close=1.07349, volume=523125.176515002), HistoryTick(time=datetime.datetime(2024, 7, 1, 0, 0, tzinfo=TzInfo(UTC)), open=1.07349, high=1.07763, low=1.07196, close=1.07364, volume=5906363.608168959), HistoryTick(time=datetime.datetime(2024, 7, 2, 0, 0, tzinfo=TzInfo(UTC)), open=1.07364, high=1.07492, low=1.07094, close=1.07478, volume=5991190.964771768), HistoryTick(time=datetime.datetime(2024, 7, 3, 0, 0, tzinfo=TzInfo(UTC)), open=1.07478, high=1.08166, low=1.07355, close=1.0791, volume=5645449.1854858035), HistoryTick(time=datetime.datetime(2024, 7, 4, 0, 0, tzinfo=TzInfo(UTC)), open=1.0791, high=1.0814, low=1.07827, close=1.08104, volume=5357328.927989538), HistoryTick(time=datetime.datetime(2024, 7, 5, 0, 0, tzinfo=TzInfo(UTC)), open=1.08104, high=1.08425, low=1.07981, close=1.0838, volume=5451808.6241941145), HistoryTick(time=datetime.datetime(2024, 7, 6, 0, 0, tzinfo=TzInfo(UTC)), open=1.0838, high=1.08389, low=1.07975, close=1.08254, volume=582058.852640035), HistoryTick(time=datetime.datetime(2024, 7, 8, 0, 0, tzinfo=TzInfo(UTC)), open=1.08254, high=1.08449, low=1.08143, close=1.08303, volume=5805790.033153048), HistoryTick(time=datetime.datetime(2024, 7, 9, 0, 0, tzinfo=TzInfo(UTC)), open=1.08303, high=1.08333, low=1.08051, close=1.08136, volume=5820375.945035469), HistoryTick(time=datetime.datetime(2024, 7, 10, 0, 0, tzinfo=TzInfo(UTC)), open=1.08136, high=1.08364, low=1.08103, close=1.0833, volume=5923544.048016485), HistoryTick(time=datetime.datetime(2024, 7, 11, 0, 0, tzinfo=TzInfo(UTC)), open=1.0833, high=1.08996, low=1.08315, close=1.08741, volume=6004146.078819547), HistoryTick(time=datetime.datetime(2024, 7, 12, 0, 0, tzinfo=TzInfo(UTC)), open=1.08741, high=1.09113, low=1.08614, close=1.09039, volume=5518846.195175133), HistoryTick(time=datetime.datetime(2024, 7, 13, 0, 0, tzinfo=TzInfo(UTC)), open=1.09039, high=1.09039, low=1.08799, close=1.08855, volume=635928.7473107711), HistoryTick(time=datetime.datetime(2024, 7, 15, 0, 0, tzinfo=TzInfo(UTC)), open=1.08855, high=1.09223, low=1.08827, close=1.08974, volume=5949113.764511349), HistoryTick(time=datetime.datetime(2024, 7, 16, 0, 0, tzinfo=TzInfo(UTC)), open=1.08974, high=1.08987, low=1.08828, close=1.08984, volume=2003515.168501038)]\n"
          ]
        }
      ]
    },
    {
      "cell_type": "code",
      "source": [
        "\n",
        "df = pd.DataFrame([historytick.dict() for historytick in data])\n",
        "print(df)\n"
      ],
      "metadata": {
        "colab": {
          "base_uri": "https://localhost:8080/"
        },
        "id": "ES2xwgI4lNb7",
        "outputId": "2af5af6d-d0c6-4526-f1de-2281a6621014"
      },
      "execution_count": null,
      "outputs": [
        {
          "output_type": "stream",
          "name": "stdout",
          "text": [
            "                         time     open     high      low    close  \\\n",
            "0   2024-03-03 23:59:00+00:00  1.08368  1.08413  1.08368  1.08385   \n",
            "1   2024-03-04 00:00:00+00:00  1.08385  1.08669  1.08385  1.08540   \n",
            "2   2024-03-05 00:00:00+00:00  1.08540  1.08758  1.08397  1.08548   \n",
            "3   2024-03-06 00:00:00+00:00  1.08548  1.09153  1.08413  1.08990   \n",
            "4   2024-03-07 00:00:00+00:00  1.08990  1.09512  1.08673  1.09507   \n",
            "..                        ...      ...      ...      ...      ...   \n",
            "111 2024-07-11 00:00:00+00:00  1.08330  1.08996  1.08315  1.08741   \n",
            "112 2024-07-12 00:00:00+00:00  1.08741  1.09113  1.08614  1.09039   \n",
            "113 2024-07-13 00:00:00+00:00  1.09039  1.09039  1.08799  1.08855   \n",
            "114 2024-07-15 00:00:00+00:00  1.08855  1.09223  1.08827  1.08974   \n",
            "115 2024-07-16 00:00:00+00:00  1.08974  1.08987  1.08828  1.08984   \n",
            "\n",
            "           volume  \n",
            "0    2.356717e+03  \n",
            "1    3.716924e+06  \n",
            "2    6.193221e+06  \n",
            "3    6.243879e+06  \n",
            "4    6.268020e+06  \n",
            "..            ...  \n",
            "111  6.004146e+06  \n",
            "112  5.518846e+06  \n",
            "113  6.359287e+05  \n",
            "114  5.949114e+06  \n",
            "115  2.003515e+06  \n",
            "\n",
            "[116 rows x 6 columns]\n"
          ]
        }
      ]
    },
    {
      "cell_type": "code",
      "source": [
        "# prompt: in the first column drop the time and keep teh day\n",
        "\n",
        "df['time'] = pd.to_datetime(df['time']).dt.date\n",
        "df.head()"
      ],
      "metadata": {
        "colab": {
          "base_uri": "https://localhost:8080/",
          "height": 204
        },
        "id": "GU00jskwmqJv",
        "outputId": "4aa313b9-aa71-4183-885f-2b84e0e311a6"
      },
      "execution_count": null,
      "outputs": [
        {
          "output_type": "execute_result",
          "data": {
            "text/plain": [
              "         time     open     high      low    close        volume\n",
              "0  2024-03-03  1.08368  1.08413  1.08368  1.08385  2.356717e+03\n",
              "1  2024-03-04  1.08385  1.08669  1.08385  1.08540  3.716924e+06\n",
              "2  2024-03-05  1.08540  1.08758  1.08397  1.08548  6.193221e+06\n",
              "3  2024-03-06  1.08548  1.09153  1.08413  1.08990  6.243879e+06\n",
              "4  2024-03-07  1.08990  1.09512  1.08673  1.09507  6.268020e+06"
            ],
            "text/html": [
              "\n",
              "  <div id=\"df-88673640-561f-4cd4-820a-fe065abce0e8\" class=\"colab-df-container\">\n",
              "    <div>\n",
              "<style scoped>\n",
              "    .dataframe tbody tr th:only-of-type {\n",
              "        vertical-align: middle;\n",
              "    }\n",
              "\n",
              "    .dataframe tbody tr th {\n",
              "        vertical-align: top;\n",
              "    }\n",
              "\n",
              "    .dataframe thead th {\n",
              "        text-align: right;\n",
              "    }\n",
              "</style>\n",
              "<table border=\"1\" class=\"dataframe\">\n",
              "  <thead>\n",
              "    <tr style=\"text-align: right;\">\n",
              "      <th></th>\n",
              "      <th>time</th>\n",
              "      <th>open</th>\n",
              "      <th>high</th>\n",
              "      <th>low</th>\n",
              "      <th>close</th>\n",
              "      <th>volume</th>\n",
              "    </tr>\n",
              "  </thead>\n",
              "  <tbody>\n",
              "    <tr>\n",
              "      <th>0</th>\n",
              "      <td>2024-03-03</td>\n",
              "      <td>1.08368</td>\n",
              "      <td>1.08413</td>\n",
              "      <td>1.08368</td>\n",
              "      <td>1.08385</td>\n",
              "      <td>2.356717e+03</td>\n",
              "    </tr>\n",
              "    <tr>\n",
              "      <th>1</th>\n",
              "      <td>2024-03-04</td>\n",
              "      <td>1.08385</td>\n",
              "      <td>1.08669</td>\n",
              "      <td>1.08385</td>\n",
              "      <td>1.08540</td>\n",
              "      <td>3.716924e+06</td>\n",
              "    </tr>\n",
              "    <tr>\n",
              "      <th>2</th>\n",
              "      <td>2024-03-05</td>\n",
              "      <td>1.08540</td>\n",
              "      <td>1.08758</td>\n",
              "      <td>1.08397</td>\n",
              "      <td>1.08548</td>\n",
              "      <td>6.193221e+06</td>\n",
              "    </tr>\n",
              "    <tr>\n",
              "      <th>3</th>\n",
              "      <td>2024-03-06</td>\n",
              "      <td>1.08548</td>\n",
              "      <td>1.09153</td>\n",
              "      <td>1.08413</td>\n",
              "      <td>1.08990</td>\n",
              "      <td>6.243879e+06</td>\n",
              "    </tr>\n",
              "    <tr>\n",
              "      <th>4</th>\n",
              "      <td>2024-03-07</td>\n",
              "      <td>1.08990</td>\n",
              "      <td>1.09512</td>\n",
              "      <td>1.08673</td>\n",
              "      <td>1.09507</td>\n",
              "      <td>6.268020e+06</td>\n",
              "    </tr>\n",
              "  </tbody>\n",
              "</table>\n",
              "</div>\n",
              "    <div class=\"colab-df-buttons\">\n",
              "\n",
              "  <div class=\"colab-df-container\">\n",
              "    <button class=\"colab-df-convert\" onclick=\"convertToInteractive('df-88673640-561f-4cd4-820a-fe065abce0e8')\"\n",
              "            title=\"Convert this dataframe to an interactive table.\"\n",
              "            style=\"display:none;\">\n",
              "\n",
              "  <svg xmlns=\"http://www.w3.org/2000/svg\" height=\"24px\" viewBox=\"0 -960 960 960\">\n",
              "    <path d=\"M120-120v-720h720v720H120Zm60-500h600v-160H180v160Zm220 220h160v-160H400v160Zm0 220h160v-160H400v160ZM180-400h160v-160H180v160Zm440 0h160v-160H620v160ZM180-180h160v-160H180v160Zm440 0h160v-160H620v160Z\"/>\n",
              "  </svg>\n",
              "    </button>\n",
              "\n",
              "  <style>\n",
              "    .colab-df-container {\n",
              "      display:flex;\n",
              "      gap: 12px;\n",
              "    }\n",
              "\n",
              "    .colab-df-convert {\n",
              "      background-color: #E8F0FE;\n",
              "      border: none;\n",
              "      border-radius: 50%;\n",
              "      cursor: pointer;\n",
              "      display: none;\n",
              "      fill: #1967D2;\n",
              "      height: 32px;\n",
              "      padding: 0 0 0 0;\n",
              "      width: 32px;\n",
              "    }\n",
              "\n",
              "    .colab-df-convert:hover {\n",
              "      background-color: #E2EBFA;\n",
              "      box-shadow: 0px 1px 2px rgba(60, 64, 67, 0.3), 0px 1px 3px 1px rgba(60, 64, 67, 0.15);\n",
              "      fill: #174EA6;\n",
              "    }\n",
              "\n",
              "    .colab-df-buttons div {\n",
              "      margin-bottom: 4px;\n",
              "    }\n",
              "\n",
              "    [theme=dark] .colab-df-convert {\n",
              "      background-color: #3B4455;\n",
              "      fill: #D2E3FC;\n",
              "    }\n",
              "\n",
              "    [theme=dark] .colab-df-convert:hover {\n",
              "      background-color: #434B5C;\n",
              "      box-shadow: 0px 1px 3px 1px rgba(0, 0, 0, 0.15);\n",
              "      filter: drop-shadow(0px 1px 2px rgba(0, 0, 0, 0.3));\n",
              "      fill: #FFFFFF;\n",
              "    }\n",
              "  </style>\n",
              "\n",
              "    <script>\n",
              "      const buttonEl =\n",
              "        document.querySelector('#df-88673640-561f-4cd4-820a-fe065abce0e8 button.colab-df-convert');\n",
              "      buttonEl.style.display =\n",
              "        google.colab.kernel.accessAllowed ? 'block' : 'none';\n",
              "\n",
              "      async function convertToInteractive(key) {\n",
              "        const element = document.querySelector('#df-88673640-561f-4cd4-820a-fe065abce0e8');\n",
              "        const dataTable =\n",
              "          await google.colab.kernel.invokeFunction('convertToInteractive',\n",
              "                                                    [key], {});\n",
              "        if (!dataTable) return;\n",
              "\n",
              "        const docLinkHtml = 'Like what you see? Visit the ' +\n",
              "          '<a target=\"_blank\" href=https://colab.research.google.com/notebooks/data_table.ipynb>data table notebook</a>'\n",
              "          + ' to learn more about interactive tables.';\n",
              "        element.innerHTML = '';\n",
              "        dataTable['output_type'] = 'display_data';\n",
              "        await google.colab.output.renderOutput(dataTable, element);\n",
              "        const docLink = document.createElement('div');\n",
              "        docLink.innerHTML = docLinkHtml;\n",
              "        element.appendChild(docLink);\n",
              "      }\n",
              "    </script>\n",
              "  </div>\n",
              "\n",
              "\n",
              "<div id=\"df-5224b6d8-7e06-4aee-af63-a72241b3e2d6\">\n",
              "  <button class=\"colab-df-quickchart\" onclick=\"quickchart('df-5224b6d8-7e06-4aee-af63-a72241b3e2d6')\"\n",
              "            title=\"Suggest charts\"\n",
              "            style=\"display:none;\">\n",
              "\n",
              "<svg xmlns=\"http://www.w3.org/2000/svg\" height=\"24px\"viewBox=\"0 0 24 24\"\n",
              "     width=\"24px\">\n",
              "    <g>\n",
              "        <path d=\"M19 3H5c-1.1 0-2 .9-2 2v14c0 1.1.9 2 2 2h14c1.1 0 2-.9 2-2V5c0-1.1-.9-2-2-2zM9 17H7v-7h2v7zm4 0h-2V7h2v10zm4 0h-2v-4h2v4z\"/>\n",
              "    </g>\n",
              "</svg>\n",
              "  </button>\n",
              "\n",
              "<style>\n",
              "  .colab-df-quickchart {\n",
              "      --bg-color: #E8F0FE;\n",
              "      --fill-color: #1967D2;\n",
              "      --hover-bg-color: #E2EBFA;\n",
              "      --hover-fill-color: #174EA6;\n",
              "      --disabled-fill-color: #AAA;\n",
              "      --disabled-bg-color: #DDD;\n",
              "  }\n",
              "\n",
              "  [theme=dark] .colab-df-quickchart {\n",
              "      --bg-color: #3B4455;\n",
              "      --fill-color: #D2E3FC;\n",
              "      --hover-bg-color: #434B5C;\n",
              "      --hover-fill-color: #FFFFFF;\n",
              "      --disabled-bg-color: #3B4455;\n",
              "      --disabled-fill-color: #666;\n",
              "  }\n",
              "\n",
              "  .colab-df-quickchart {\n",
              "    background-color: var(--bg-color);\n",
              "    border: none;\n",
              "    border-radius: 50%;\n",
              "    cursor: pointer;\n",
              "    display: none;\n",
              "    fill: var(--fill-color);\n",
              "    height: 32px;\n",
              "    padding: 0;\n",
              "    width: 32px;\n",
              "  }\n",
              "\n",
              "  .colab-df-quickchart:hover {\n",
              "    background-color: var(--hover-bg-color);\n",
              "    box-shadow: 0 1px 2px rgba(60, 64, 67, 0.3), 0 1px 3px 1px rgba(60, 64, 67, 0.15);\n",
              "    fill: var(--button-hover-fill-color);\n",
              "  }\n",
              "\n",
              "  .colab-df-quickchart-complete:disabled,\n",
              "  .colab-df-quickchart-complete:disabled:hover {\n",
              "    background-color: var(--disabled-bg-color);\n",
              "    fill: var(--disabled-fill-color);\n",
              "    box-shadow: none;\n",
              "  }\n",
              "\n",
              "  .colab-df-spinner {\n",
              "    border: 2px solid var(--fill-color);\n",
              "    border-color: transparent;\n",
              "    border-bottom-color: var(--fill-color);\n",
              "    animation:\n",
              "      spin 1s steps(1) infinite;\n",
              "  }\n",
              "\n",
              "  @keyframes spin {\n",
              "    0% {\n",
              "      border-color: transparent;\n",
              "      border-bottom-color: var(--fill-color);\n",
              "      border-left-color: var(--fill-color);\n",
              "    }\n",
              "    20% {\n",
              "      border-color: transparent;\n",
              "      border-left-color: var(--fill-color);\n",
              "      border-top-color: var(--fill-color);\n",
              "    }\n",
              "    30% {\n",
              "      border-color: transparent;\n",
              "      border-left-color: var(--fill-color);\n",
              "      border-top-color: var(--fill-color);\n",
              "      border-right-color: var(--fill-color);\n",
              "    }\n",
              "    40% {\n",
              "      border-color: transparent;\n",
              "      border-right-color: var(--fill-color);\n",
              "      border-top-color: var(--fill-color);\n",
              "    }\n",
              "    60% {\n",
              "      border-color: transparent;\n",
              "      border-right-color: var(--fill-color);\n",
              "    }\n",
              "    80% {\n",
              "      border-color: transparent;\n",
              "      border-right-color: var(--fill-color);\n",
              "      border-bottom-color: var(--fill-color);\n",
              "    }\n",
              "    90% {\n",
              "      border-color: transparent;\n",
              "      border-bottom-color: var(--fill-color);\n",
              "    }\n",
              "  }\n",
              "</style>\n",
              "\n",
              "  <script>\n",
              "    async function quickchart(key) {\n",
              "      const quickchartButtonEl =\n",
              "        document.querySelector('#' + key + ' button');\n",
              "      quickchartButtonEl.disabled = true;  // To prevent multiple clicks.\n",
              "      quickchartButtonEl.classList.add('colab-df-spinner');\n",
              "      try {\n",
              "        const charts = await google.colab.kernel.invokeFunction(\n",
              "            'suggestCharts', [key], {});\n",
              "      } catch (error) {\n",
              "        console.error('Error during call to suggestCharts:', error);\n",
              "      }\n",
              "      quickchartButtonEl.classList.remove('colab-df-spinner');\n",
              "      quickchartButtonEl.classList.add('colab-df-quickchart-complete');\n",
              "    }\n",
              "    (() => {\n",
              "      let quickchartButtonEl =\n",
              "        document.querySelector('#df-5224b6d8-7e06-4aee-af63-a72241b3e2d6 button');\n",
              "      quickchartButtonEl.style.display =\n",
              "        google.colab.kernel.accessAllowed ? 'block' : 'none';\n",
              "    })();\n",
              "  </script>\n",
              "</div>\n",
              "\n",
              "    </div>\n",
              "  </div>\n"
            ],
            "application/vnd.google.colaboratory.intrinsic+json": {
              "type": "dataframe",
              "variable_name": "df",
              "summary": "{\n  \"name\": \"df\",\n  \"rows\": 116,\n  \"fields\": [\n    {\n      \"column\": \"time\",\n      \"properties\": {\n        \"dtype\": \"date\",\n        \"min\": \"2024-03-03\",\n        \"max\": \"2024-07-16\",\n        \"num_unique_values\": 116,\n        \"samples\": [\n          \"2024-06-08\",\n          \"2024-03-07\",\n          \"2024-04-20\"\n        ],\n        \"semantic_type\": \"\",\n        \"description\": \"\"\n      }\n    },\n    {\n      \"column\": \"open\",\n      \"properties\": {\n        \"dtype\": \"number\",\n        \"std\": 0.008135775399390349,\n        \"min\": 1.06202,\n        \"max\": 1.09523,\n        \"num_unique_values\": 112,\n        \"samples\": [\n          1.06426,\n          1.0872,\n          1.0899\n        ],\n        \"semantic_type\": \"\",\n        \"description\": \"\"\n      }\n    },\n    {\n      \"column\": \"high\",\n      \"properties\": {\n        \"dtype\": \"number\",\n        \"std\": 0.03964457851733438,\n        \"min\": 1.06514,\n        \"max\": 1.5,\n        \"num_unique_values\": 114,\n        \"samples\": [\n          1.09019,\n          1.09512,\n          1.069\n        ],\n        \"semantic_type\": \"\",\n        \"description\": \"\"\n      }\n    },\n    {\n      \"column\": \"low\",\n      \"properties\": {\n        \"dtype\": \"number\",\n        \"std\": 0.010894074623920304,\n        \"min\": 1.0,\n        \"max\": 1.09359,\n        \"num_unique_values\": 114,\n        \"samples\": [\n          1.08536,\n          1.08673,\n          1.06394\n        ],\n        \"semantic_type\": \"\",\n        \"description\": \"\"\n      }\n    },\n    {\n      \"column\": \"close\",\n      \"properties\": {\n        \"dtype\": \"number\",\n        \"std\": 0.008183740824528737,\n        \"min\": 1.06202,\n        \"max\": 1.09523,\n        \"num_unique_values\": 112,\n        \"samples\": [\n          1.06559,\n          1.08603,\n          1.09507\n        ],\n        \"semantic_type\": \"\",\n        \"description\": \"\"\n      }\n    },\n    {\n      \"column\": \"volume\",\n      \"properties\": {\n        \"dtype\": \"number\",\n        \"std\": 2073368.5591056785,\n        \"min\": 2356.716606889623,\n        \"max\": 6268019.919567308,\n        \"num_unique_values\": 116,\n        \"samples\": [\n          641972.9333470244,\n          6268019.919567308,\n          540463.0202037229\n        ],\n        \"semantic_type\": \"\",\n        \"description\": \"\"\n      }\n    }\n  ]\n}"
            }
          },
          "metadata": {},
          "execution_count": 62
        }
      ]
    },
    {
      "cell_type": "code",
      "source": [],
      "metadata": {
        "id": "glndOSQJnSeX"
      },
      "execution_count": null,
      "outputs": []
    },
    {
      "cell_type": "code",
      "source": [
        "def get_stochastic_oscillator(df, period=14):\n",
        "    for i in range(len(df)):\n",
        "        low = df.iloc[i]['close']\n",
        "        high = df.iloc[i]['close']\n",
        "        if i >= period:\n",
        "            n = 0\n",
        "            while n < period:\n",
        "                if df.iloc[i-n]['close'] >= high:\n",
        "                    high = df.iloc[i-n]['close']\n",
        "                elif df.iloc[i-n]['close'] < low:\n",
        "                    low = df.iloc[i-n]['close']\n",
        "                n += 1\n",
        "            df.at[i, 'best_low'] = low\n",
        "            df.at[i, 'best_high'] = high\n",
        "            df.at[i, 'fast_k'] = 100*((df.iloc[i]['close']-df.iloc[i]['best_low'])/(df.iloc[i]['best_high']-df.iloc[i]['best_low']))\n",
        "\n",
        "    df['fast_d'] = df['fast_k'].rolling(3).mean().round(2)\n",
        "    df['slow_k'] = df['fast_d']\n",
        "    df['slow_d'] = df['slow_k'].rolling(3).mean().round(2)\n",
        "\n",
        "    return df"
      ],
      "metadata": {
        "id": "w-Tl1RoLhelx"
      },
      "execution_count": null,
      "outputs": []
    },
    {
      "cell_type": "code",
      "source": [
        "df = get_stochastic_oscillator(df, period=14)"
      ],
      "metadata": {
        "id": "3MAhtaF9n1FR"
      },
      "execution_count": null,
      "outputs": []
    },
    {
      "cell_type": "code",
      "source": [
        "\n",
        "\n",
        "\n",
        "import plotly.express as px\n",
        "import plotly.graph_objects as go\n",
        "\n",
        "def chart_stochastic_oscillator(ticker, df):\n",
        "    fig = go.Figure()\n",
        "\n",
        "    fig.add_trace(go.Scatter(x=df['time'], y=df['fast_k'], mode='lines', name='fast_k', line=dict(color='orange', width=0.75)))\n",
        "    fig.add_trace(go.Scatter(x=df['time'], y=df['fast_d'], mode='lines', name='fast_d', line=dict(color='grey', width=0.75)))\n",
        "    fig.add_trace(go.Scatter(x=df['time'], y=df['slow_d'], mode='lines', name='slow_d', line=dict(color='green', width=0.75)))\n",
        "\n",
        "    fig.add_shape(type='line', x0=df['time'].min(), x1=df['time'].max(), y0=80, y1=80, line=dict(color='blue', dash='dash'))\n",
        "    fig.add_shape(type='line', x0=df['time'].min(), x1=df['time'].max(), y0=20, y1=20, line=dict(color='red', dash='dash'))\n",
        "\n",
        "    fig.update_layout(\n",
        "        title={\n",
        "            'text': ticker,\n",
        "            'x': 0.02,\n",
        "            'xanchor': 'left',\n",
        "            'y': 0.85,\n",
        "            'yanchor': 'top',\n",
        "            'font': {'size': 14}\n",
        "        },\n",
        "        yaxis_title='Price [$]',\n",
        "        yaxis_range=[0, 100],\n",
        "        template='plotly_white',\n",
        "        height=500,\n",
        "        width=800\n",
        "    )\n",
        "\n",
        "    fig.show()\n",
        "\n",
        "\n",
        "\n"
      ],
      "metadata": {
        "id": "yQTq860Ahfdb"
      },
      "execution_count": null,
      "outputs": []
    },
    {
      "cell_type": "code",
      "source": [
        "chart_stochastic_oscillator(symbol.symbol, df)"
      ],
      "metadata": {
        "colab": {
          "base_uri": "https://localhost:8080/",
          "height": 517
        },
        "id": "RcW6-gX5n80U",
        "outputId": "4b057989-ad1f-48c8-ecf5-df0ae86c3078"
      },
      "execution_count": null,
      "outputs": [
        {
          "output_type": "display_data",
          "data": {
            "text/html": [
              "<html>\n",
              "<head><meta charset=\"utf-8\" /></head>\n",
              "<body>\n",
              "    <div>            <script src=\"https://cdnjs.cloudflare.com/ajax/libs/mathjax/2.7.5/MathJax.js?config=TeX-AMS-MML_SVG\"></script><script type=\"text/javascript\">if (window.MathJax && window.MathJax.Hub && window.MathJax.Hub.Config) {window.MathJax.Hub.Config({SVG: {font: \"STIX-Web\"}});}</script>                <script type=\"text/javascript\">window.PlotlyConfig = {MathJaxConfig: 'local'};</script>\n",
              "        <script charset=\"utf-8\" src=\"https://cdn.plot.ly/plotly-2.24.1.min.js\"></script>                <div id=\"49dc6bc3-8599-4a87-8831-6e945150f6d0\" class=\"plotly-graph-div\" style=\"height:500px; width:800px;\"></div>            <script type=\"text/javascript\">                                    window.PLOTLYENV=window.PLOTLYENV || {};                                    if (document.getElementById(\"49dc6bc3-8599-4a87-8831-6e945150f6d0\")) {                    Plotly.newPlot(                        \"49dc6bc3-8599-4a87-8831-6e945150f6d0\",                        [{\"line\":{\"color\":\"orange\",\"width\":0.75},\"mode\":\"lines\",\"name\":\"fast_k\",\"x\":[\"2024-03-03\",\"2024-03-04\",\"2024-03-05\",\"2024-03-06\",\"2024-03-07\",\"2024-03-08\",\"2024-03-09\",\"2024-03-11\",\"2024-03-12\",\"2024-03-13\",\"2024-03-14\",\"2024-03-15\",\"2024-03-16\",\"2024-03-18\",\"2024-03-19\",\"2024-03-20\",\"2024-03-21\",\"2024-03-22\",\"2024-03-23\",\"2024-03-25\",\"2024-03-26\",\"2024-03-27\",\"2024-03-28\",\"2024-03-29\",\"2024-03-30\",\"2024-04-01\",\"2024-04-02\",\"2024-04-03\",\"2024-04-04\",\"2024-04-05\",\"2024-04-06\",\"2024-04-08\",\"2024-04-09\",\"2024-04-10\",\"2024-04-11\",\"2024-04-12\",\"2024-04-13\",\"2024-04-15\",\"2024-04-16\",\"2024-04-17\",\"2024-04-18\",\"2024-04-19\",\"2024-04-20\",\"2024-04-22\",\"2024-04-23\",\"2024-04-24\",\"2024-04-25\",\"2024-04-26\",\"2024-04-27\",\"2024-04-29\",\"2024-04-30\",\"2024-05-01\",\"2024-05-02\",\"2024-05-03\",\"2024-05-04\",\"2024-05-06\",\"2024-05-07\",\"2024-05-08\",\"2024-05-09\",\"2024-05-10\",\"2024-05-11\",\"2024-05-13\",\"2024-05-14\",\"2024-05-15\",\"2024-05-17\",\"2024-05-18\",\"2024-05-20\",\"2024-05-21\",\"2024-05-22\",\"2024-05-23\",\"2024-05-24\",\"2024-05-25\",\"2024-05-27\",\"2024-05-28\",\"2024-05-29\",\"2024-05-30\",\"2024-05-31\",\"2024-06-01\",\"2024-06-03\",\"2024-06-04\",\"2024-06-05\",\"2024-06-06\",\"2024-06-07\",\"2024-06-08\",\"2024-06-10\",\"2024-06-11\",\"2024-06-12\",\"2024-06-13\",\"2024-06-14\",\"2024-06-15\",\"2024-06-17\",\"2024-06-18\",\"2024-06-19\",\"2024-06-20\",\"2024-06-21\",\"2024-06-22\",\"2024-06-24\",\"2024-06-25\",\"2024-06-26\",\"2024-06-27\",\"2024-06-28\",\"2024-06-29\",\"2024-07-01\",\"2024-07-02\",\"2024-07-03\",\"2024-07-04\",\"2024-07-05\",\"2024-07-06\",\"2024-07-08\",\"2024-07-09\",\"2024-07-10\",\"2024-07-11\",\"2024-07-12\",\"2024-07-13\",\"2024-07-15\",\"2024-07-16\"],\"y\":[null,null,null,null,null,null,null,null,null,null,null,null,null,null,7.83316378433529,84.30769230769187,0.2207505518753788,0.0,0.0,20.33080634045488,17.367332873880592,3.583735354928154,0.0,0.0,0.9589041095892432,0.0,15.09999999999916,50.5000000000005,49.349999999999625,79.02321857485917,91.58415841584142,100.0,97.12230215827401,3.3573141486800298,0.0,0.0,2.434625788999045,0.0,0.0,19.96692848284467,9.260024803637974,14.758164530798194,15.41959487391493,13.931376601902043,33.65026870607713,33.44523709609747,88.26446280991755,68.53932584269641,81.1797752808983,88.29588014981302,42.04119850187355,90.3558052434449,100.0,100.0,96.11829944547057,100.0,84.80565371024588,79.99999999999956,100.0,88.75536480686756,90.12875536480695,100.0,100.0,100.0,100.0,100.0,90.66241021548363,85.63447725458872,62.41021548284104,51.63607342378301,78.69114126097394,74.58937198067686,89.75845410628162,79.58783120706697,11.125000000000709,42.475386779184866,66.66666666666666,72.57383966244852,100.0,75.25870178739483,68.76763875823127,84.66603951081812,0.0,0.0,0.0,0.0,43.723973825105254,0.0,0.0,0.6307617661338448,18.680252304707075,18.146530810286627,24.13066385669141,2.3709167544787224,0.0,0.0,35.33653846153853,17.067307692307352,0.0,21.052631578946578,48.43982169390918,82.16939078752029,84.3982169390786,100.0,100.0,100.0,100.0,92.04545454545435,95.1388888888879,84.59595959595968,96.8434343434333,100.0,100.0,90.40166927490833,96.1538461538459,96.71641791044748],\"type\":\"scatter\"},{\"line\":{\"color\":\"grey\",\"width\":0.75},\"mode\":\"lines\",\"name\":\"fast_d\",\"x\":[\"2024-03-03\",\"2024-03-04\",\"2024-03-05\",\"2024-03-06\",\"2024-03-07\",\"2024-03-08\",\"2024-03-09\",\"2024-03-11\",\"2024-03-12\",\"2024-03-13\",\"2024-03-14\",\"2024-03-15\",\"2024-03-16\",\"2024-03-18\",\"2024-03-19\",\"2024-03-20\",\"2024-03-21\",\"2024-03-22\",\"2024-03-23\",\"2024-03-25\",\"2024-03-26\",\"2024-03-27\",\"2024-03-28\",\"2024-03-29\",\"2024-03-30\",\"2024-04-01\",\"2024-04-02\",\"2024-04-03\",\"2024-04-04\",\"2024-04-05\",\"2024-04-06\",\"2024-04-08\",\"2024-04-09\",\"2024-04-10\",\"2024-04-11\",\"2024-04-12\",\"2024-04-13\",\"2024-04-15\",\"2024-04-16\",\"2024-04-17\",\"2024-04-18\",\"2024-04-19\",\"2024-04-20\",\"2024-04-22\",\"2024-04-23\",\"2024-04-24\",\"2024-04-25\",\"2024-04-26\",\"2024-04-27\",\"2024-04-29\",\"2024-04-30\",\"2024-05-01\",\"2024-05-02\",\"2024-05-03\",\"2024-05-04\",\"2024-05-06\",\"2024-05-07\",\"2024-05-08\",\"2024-05-09\",\"2024-05-10\",\"2024-05-11\",\"2024-05-13\",\"2024-05-14\",\"2024-05-15\",\"2024-05-17\",\"2024-05-18\",\"2024-05-20\",\"2024-05-21\",\"2024-05-22\",\"2024-05-23\",\"2024-05-24\",\"2024-05-25\",\"2024-05-27\",\"2024-05-28\",\"2024-05-29\",\"2024-05-30\",\"2024-05-31\",\"2024-06-01\",\"2024-06-03\",\"2024-06-04\",\"2024-06-05\",\"2024-06-06\",\"2024-06-07\",\"2024-06-08\",\"2024-06-10\",\"2024-06-11\",\"2024-06-12\",\"2024-06-13\",\"2024-06-14\",\"2024-06-15\",\"2024-06-17\",\"2024-06-18\",\"2024-06-19\",\"2024-06-20\",\"2024-06-21\",\"2024-06-22\",\"2024-06-24\",\"2024-06-25\",\"2024-06-26\",\"2024-06-27\",\"2024-06-28\",\"2024-06-29\",\"2024-07-01\",\"2024-07-02\",\"2024-07-03\",\"2024-07-04\",\"2024-07-05\",\"2024-07-06\",\"2024-07-08\",\"2024-07-09\",\"2024-07-10\",\"2024-07-11\",\"2024-07-12\",\"2024-07-13\",\"2024-07-15\",\"2024-07-16\"],\"y\":[null,null,null,null,null,null,null,null,null,null,null,null,null,null,null,null,30.79,28.18,0.07,6.78,12.57,13.76,6.98,1.19,0.32,0.32,5.35,21.87,38.32,59.62,73.32,90.2,96.24,66.83,33.49,1.12,0.81,0.81,0.81,6.66,9.74,14.66,13.15,14.7,21.0,27.01,51.79,63.42,79.33,79.34,70.51,73.56,77.47,96.79,98.71,98.71,93.64,88.27,88.27,89.59,92.96,92.96,96.71,100.0,100.0,100.0,96.89,92.1,79.57,66.56,64.25,68.31,81.01,81.31,60.16,44.4,40.09,60.57,79.75,82.61,81.34,76.23,51.14,28.22,0.0,0.0,14.57,14.57,14.57,0.21,6.44,12.49,20.32,14.88,8.83,0.79,11.78,17.47,17.47,12.71,23.16,50.55,71.67,88.86,94.8,100.0,100.0,97.35,95.73,90.59,92.19,93.81,98.95,96.8,95.52,94.42],\"type\":\"scatter\"},{\"line\":{\"color\":\"green\",\"width\":0.75},\"mode\":\"lines\",\"name\":\"slow_d\",\"x\":[\"2024-03-03\",\"2024-03-04\",\"2024-03-05\",\"2024-03-06\",\"2024-03-07\",\"2024-03-08\",\"2024-03-09\",\"2024-03-11\",\"2024-03-12\",\"2024-03-13\",\"2024-03-14\",\"2024-03-15\",\"2024-03-16\",\"2024-03-18\",\"2024-03-19\",\"2024-03-20\",\"2024-03-21\",\"2024-03-22\",\"2024-03-23\",\"2024-03-25\",\"2024-03-26\",\"2024-03-27\",\"2024-03-28\",\"2024-03-29\",\"2024-03-30\",\"2024-04-01\",\"2024-04-02\",\"2024-04-03\",\"2024-04-04\",\"2024-04-05\",\"2024-04-06\",\"2024-04-08\",\"2024-04-09\",\"2024-04-10\",\"2024-04-11\",\"2024-04-12\",\"2024-04-13\",\"2024-04-15\",\"2024-04-16\",\"2024-04-17\",\"2024-04-18\",\"2024-04-19\",\"2024-04-20\",\"2024-04-22\",\"2024-04-23\",\"2024-04-24\",\"2024-04-25\",\"2024-04-26\",\"2024-04-27\",\"2024-04-29\",\"2024-04-30\",\"2024-05-01\",\"2024-05-02\",\"2024-05-03\",\"2024-05-04\",\"2024-05-06\",\"2024-05-07\",\"2024-05-08\",\"2024-05-09\",\"2024-05-10\",\"2024-05-11\",\"2024-05-13\",\"2024-05-14\",\"2024-05-15\",\"2024-05-17\",\"2024-05-18\",\"2024-05-20\",\"2024-05-21\",\"2024-05-22\",\"2024-05-23\",\"2024-05-24\",\"2024-05-25\",\"2024-05-27\",\"2024-05-28\",\"2024-05-29\",\"2024-05-30\",\"2024-05-31\",\"2024-06-01\",\"2024-06-03\",\"2024-06-04\",\"2024-06-05\",\"2024-06-06\",\"2024-06-07\",\"2024-06-08\",\"2024-06-10\",\"2024-06-11\",\"2024-06-12\",\"2024-06-13\",\"2024-06-14\",\"2024-06-15\",\"2024-06-17\",\"2024-06-18\",\"2024-06-19\",\"2024-06-20\",\"2024-06-21\",\"2024-06-22\",\"2024-06-24\",\"2024-06-25\",\"2024-06-26\",\"2024-06-27\",\"2024-06-28\",\"2024-06-29\",\"2024-07-01\",\"2024-07-02\",\"2024-07-03\",\"2024-07-04\",\"2024-07-05\",\"2024-07-06\",\"2024-07-08\",\"2024-07-09\",\"2024-07-10\",\"2024-07-11\",\"2024-07-12\",\"2024-07-13\",\"2024-07-15\",\"2024-07-16\"],\"y\":[null,null,null,null,null,null,null,null,null,null,null,null,null,null,null,null,null,null,19.68,11.68,6.47,11.04,11.1,7.31,2.83,0.61,2.0,9.18,21.85,39.94,57.09,74.38,86.59,84.42,65.52,33.81,11.81,0.91,0.81,2.76,5.74,10.35,12.52,14.17,16.28,20.9,33.27,47.41,64.85,74.03,76.39,74.47,73.85,82.61,90.99,98.07,97.02,93.54,90.06,88.71,90.27,91.84,94.21,96.56,98.9,100.0,98.96,96.33,89.52,79.41,70.13,66.37,71.19,76.88,74.16,61.96,48.22,48.35,60.14,74.31,81.23,80.06,69.57,51.86,26.45,9.41,4.86,9.71,14.57,9.78,7.07,6.38,13.08,15.9,14.68,8.17,7.13,10.01,15.57,15.88,17.78,28.81,48.46,70.36,85.11,94.55,98.27,99.12,97.69,94.56,92.84,92.2,94.98,96.52,97.09,95.58],\"type\":\"scatter\"}],                        {\"template\":{\"data\":{\"barpolar\":[{\"marker\":{\"line\":{\"color\":\"white\",\"width\":0.5},\"pattern\":{\"fillmode\":\"overlay\",\"size\":10,\"solidity\":0.2}},\"type\":\"barpolar\"}],\"bar\":[{\"error_x\":{\"color\":\"#2a3f5f\"},\"error_y\":{\"color\":\"#2a3f5f\"},\"marker\":{\"line\":{\"color\":\"white\",\"width\":0.5},\"pattern\":{\"fillmode\":\"overlay\",\"size\":10,\"solidity\":0.2}},\"type\":\"bar\"}],\"carpet\":[{\"aaxis\":{\"endlinecolor\":\"#2a3f5f\",\"gridcolor\":\"#C8D4E3\",\"linecolor\":\"#C8D4E3\",\"minorgridcolor\":\"#C8D4E3\",\"startlinecolor\":\"#2a3f5f\"},\"baxis\":{\"endlinecolor\":\"#2a3f5f\",\"gridcolor\":\"#C8D4E3\",\"linecolor\":\"#C8D4E3\",\"minorgridcolor\":\"#C8D4E3\",\"startlinecolor\":\"#2a3f5f\"},\"type\":\"carpet\"}],\"choropleth\":[{\"colorbar\":{\"outlinewidth\":0,\"ticks\":\"\"},\"type\":\"choropleth\"}],\"contourcarpet\":[{\"colorbar\":{\"outlinewidth\":0,\"ticks\":\"\"},\"type\":\"contourcarpet\"}],\"contour\":[{\"colorbar\":{\"outlinewidth\":0,\"ticks\":\"\"},\"colorscale\":[[0.0,\"#0d0887\"],[0.1111111111111111,\"#46039f\"],[0.2222222222222222,\"#7201a8\"],[0.3333333333333333,\"#9c179e\"],[0.4444444444444444,\"#bd3786\"],[0.5555555555555556,\"#d8576b\"],[0.6666666666666666,\"#ed7953\"],[0.7777777777777778,\"#fb9f3a\"],[0.8888888888888888,\"#fdca26\"],[1.0,\"#f0f921\"]],\"type\":\"contour\"}],\"heatmapgl\":[{\"colorbar\":{\"outlinewidth\":0,\"ticks\":\"\"},\"colorscale\":[[0.0,\"#0d0887\"],[0.1111111111111111,\"#46039f\"],[0.2222222222222222,\"#7201a8\"],[0.3333333333333333,\"#9c179e\"],[0.4444444444444444,\"#bd3786\"],[0.5555555555555556,\"#d8576b\"],[0.6666666666666666,\"#ed7953\"],[0.7777777777777778,\"#fb9f3a\"],[0.8888888888888888,\"#fdca26\"],[1.0,\"#f0f921\"]],\"type\":\"heatmapgl\"}],\"heatmap\":[{\"colorbar\":{\"outlinewidth\":0,\"ticks\":\"\"},\"colorscale\":[[0.0,\"#0d0887\"],[0.1111111111111111,\"#46039f\"],[0.2222222222222222,\"#7201a8\"],[0.3333333333333333,\"#9c179e\"],[0.4444444444444444,\"#bd3786\"],[0.5555555555555556,\"#d8576b\"],[0.6666666666666666,\"#ed7953\"],[0.7777777777777778,\"#fb9f3a\"],[0.8888888888888888,\"#fdca26\"],[1.0,\"#f0f921\"]],\"type\":\"heatmap\"}],\"histogram2dcontour\":[{\"colorbar\":{\"outlinewidth\":0,\"ticks\":\"\"},\"colorscale\":[[0.0,\"#0d0887\"],[0.1111111111111111,\"#46039f\"],[0.2222222222222222,\"#7201a8\"],[0.3333333333333333,\"#9c179e\"],[0.4444444444444444,\"#bd3786\"],[0.5555555555555556,\"#d8576b\"],[0.6666666666666666,\"#ed7953\"],[0.7777777777777778,\"#fb9f3a\"],[0.8888888888888888,\"#fdca26\"],[1.0,\"#f0f921\"]],\"type\":\"histogram2dcontour\"}],\"histogram2d\":[{\"colorbar\":{\"outlinewidth\":0,\"ticks\":\"\"},\"colorscale\":[[0.0,\"#0d0887\"],[0.1111111111111111,\"#46039f\"],[0.2222222222222222,\"#7201a8\"],[0.3333333333333333,\"#9c179e\"],[0.4444444444444444,\"#bd3786\"],[0.5555555555555556,\"#d8576b\"],[0.6666666666666666,\"#ed7953\"],[0.7777777777777778,\"#fb9f3a\"],[0.8888888888888888,\"#fdca26\"],[1.0,\"#f0f921\"]],\"type\":\"histogram2d\"}],\"histogram\":[{\"marker\":{\"pattern\":{\"fillmode\":\"overlay\",\"size\":10,\"solidity\":0.2}},\"type\":\"histogram\"}],\"mesh3d\":[{\"colorbar\":{\"outlinewidth\":0,\"ticks\":\"\"},\"type\":\"mesh3d\"}],\"parcoords\":[{\"line\":{\"colorbar\":{\"outlinewidth\":0,\"ticks\":\"\"}},\"type\":\"parcoords\"}],\"pie\":[{\"automargin\":true,\"type\":\"pie\"}],\"scatter3d\":[{\"line\":{\"colorbar\":{\"outlinewidth\":0,\"ticks\":\"\"}},\"marker\":{\"colorbar\":{\"outlinewidth\":0,\"ticks\":\"\"}},\"type\":\"scatter3d\"}],\"scattercarpet\":[{\"marker\":{\"colorbar\":{\"outlinewidth\":0,\"ticks\":\"\"}},\"type\":\"scattercarpet\"}],\"scattergeo\":[{\"marker\":{\"colorbar\":{\"outlinewidth\":0,\"ticks\":\"\"}},\"type\":\"scattergeo\"}],\"scattergl\":[{\"marker\":{\"colorbar\":{\"outlinewidth\":0,\"ticks\":\"\"}},\"type\":\"scattergl\"}],\"scattermapbox\":[{\"marker\":{\"colorbar\":{\"outlinewidth\":0,\"ticks\":\"\"}},\"type\":\"scattermapbox\"}],\"scatterpolargl\":[{\"marker\":{\"colorbar\":{\"outlinewidth\":0,\"ticks\":\"\"}},\"type\":\"scatterpolargl\"}],\"scatterpolar\":[{\"marker\":{\"colorbar\":{\"outlinewidth\":0,\"ticks\":\"\"}},\"type\":\"scatterpolar\"}],\"scatter\":[{\"fillpattern\":{\"fillmode\":\"overlay\",\"size\":10,\"solidity\":0.2},\"type\":\"scatter\"}],\"scatterternary\":[{\"marker\":{\"colorbar\":{\"outlinewidth\":0,\"ticks\":\"\"}},\"type\":\"scatterternary\"}],\"surface\":[{\"colorbar\":{\"outlinewidth\":0,\"ticks\":\"\"},\"colorscale\":[[0.0,\"#0d0887\"],[0.1111111111111111,\"#46039f\"],[0.2222222222222222,\"#7201a8\"],[0.3333333333333333,\"#9c179e\"],[0.4444444444444444,\"#bd3786\"],[0.5555555555555556,\"#d8576b\"],[0.6666666666666666,\"#ed7953\"],[0.7777777777777778,\"#fb9f3a\"],[0.8888888888888888,\"#fdca26\"],[1.0,\"#f0f921\"]],\"type\":\"surface\"}],\"table\":[{\"cells\":{\"fill\":{\"color\":\"#EBF0F8\"},\"line\":{\"color\":\"white\"}},\"header\":{\"fill\":{\"color\":\"#C8D4E3\"},\"line\":{\"color\":\"white\"}},\"type\":\"table\"}]},\"layout\":{\"annotationdefaults\":{\"arrowcolor\":\"#2a3f5f\",\"arrowhead\":0,\"arrowwidth\":1},\"autotypenumbers\":\"strict\",\"coloraxis\":{\"colorbar\":{\"outlinewidth\":0,\"ticks\":\"\"}},\"colorscale\":{\"diverging\":[[0,\"#8e0152\"],[0.1,\"#c51b7d\"],[0.2,\"#de77ae\"],[0.3,\"#f1b6da\"],[0.4,\"#fde0ef\"],[0.5,\"#f7f7f7\"],[0.6,\"#e6f5d0\"],[0.7,\"#b8e186\"],[0.8,\"#7fbc41\"],[0.9,\"#4d9221\"],[1,\"#276419\"]],\"sequential\":[[0.0,\"#0d0887\"],[0.1111111111111111,\"#46039f\"],[0.2222222222222222,\"#7201a8\"],[0.3333333333333333,\"#9c179e\"],[0.4444444444444444,\"#bd3786\"],[0.5555555555555556,\"#d8576b\"],[0.6666666666666666,\"#ed7953\"],[0.7777777777777778,\"#fb9f3a\"],[0.8888888888888888,\"#fdca26\"],[1.0,\"#f0f921\"]],\"sequentialminus\":[[0.0,\"#0d0887\"],[0.1111111111111111,\"#46039f\"],[0.2222222222222222,\"#7201a8\"],[0.3333333333333333,\"#9c179e\"],[0.4444444444444444,\"#bd3786\"],[0.5555555555555556,\"#d8576b\"],[0.6666666666666666,\"#ed7953\"],[0.7777777777777778,\"#fb9f3a\"],[0.8888888888888888,\"#fdca26\"],[1.0,\"#f0f921\"]]},\"colorway\":[\"#636efa\",\"#EF553B\",\"#00cc96\",\"#ab63fa\",\"#FFA15A\",\"#19d3f3\",\"#FF6692\",\"#B6E880\",\"#FF97FF\",\"#FECB52\"],\"font\":{\"color\":\"#2a3f5f\"},\"geo\":{\"bgcolor\":\"white\",\"lakecolor\":\"white\",\"landcolor\":\"white\",\"showlakes\":true,\"showland\":true,\"subunitcolor\":\"#C8D4E3\"},\"hoverlabel\":{\"align\":\"left\"},\"hovermode\":\"closest\",\"mapbox\":{\"style\":\"light\"},\"paper_bgcolor\":\"white\",\"plot_bgcolor\":\"white\",\"polar\":{\"angularaxis\":{\"gridcolor\":\"#EBF0F8\",\"linecolor\":\"#EBF0F8\",\"ticks\":\"\"},\"bgcolor\":\"white\",\"radialaxis\":{\"gridcolor\":\"#EBF0F8\",\"linecolor\":\"#EBF0F8\",\"ticks\":\"\"}},\"scene\":{\"xaxis\":{\"backgroundcolor\":\"white\",\"gridcolor\":\"#DFE8F3\",\"gridwidth\":2,\"linecolor\":\"#EBF0F8\",\"showbackground\":true,\"ticks\":\"\",\"zerolinecolor\":\"#EBF0F8\"},\"yaxis\":{\"backgroundcolor\":\"white\",\"gridcolor\":\"#DFE8F3\",\"gridwidth\":2,\"linecolor\":\"#EBF0F8\",\"showbackground\":true,\"ticks\":\"\",\"zerolinecolor\":\"#EBF0F8\"},\"zaxis\":{\"backgroundcolor\":\"white\",\"gridcolor\":\"#DFE8F3\",\"gridwidth\":2,\"linecolor\":\"#EBF0F8\",\"showbackground\":true,\"ticks\":\"\",\"zerolinecolor\":\"#EBF0F8\"}},\"shapedefaults\":{\"line\":{\"color\":\"#2a3f5f\"}},\"ternary\":{\"aaxis\":{\"gridcolor\":\"#DFE8F3\",\"linecolor\":\"#A2B1C6\",\"ticks\":\"\"},\"baxis\":{\"gridcolor\":\"#DFE8F3\",\"linecolor\":\"#A2B1C6\",\"ticks\":\"\"},\"bgcolor\":\"white\",\"caxis\":{\"gridcolor\":\"#DFE8F3\",\"linecolor\":\"#A2B1C6\",\"ticks\":\"\"}},\"title\":{\"x\":0.05},\"xaxis\":{\"automargin\":true,\"gridcolor\":\"#EBF0F8\",\"linecolor\":\"#EBF0F8\",\"ticks\":\"\",\"title\":{\"standoff\":15},\"zerolinecolor\":\"#EBF0F8\",\"zerolinewidth\":2},\"yaxis\":{\"automargin\":true,\"gridcolor\":\"#EBF0F8\",\"linecolor\":\"#EBF0F8\",\"ticks\":\"\",\"title\":{\"standoff\":15},\"zerolinecolor\":\"#EBF0F8\",\"zerolinewidth\":2}}},\"shapes\":[{\"line\":{\"color\":\"blue\",\"dash\":\"dash\"},\"type\":\"line\",\"x0\":\"2024-03-03\",\"x1\":\"2024-07-16\",\"y0\":80,\"y1\":80},{\"line\":{\"color\":\"red\",\"dash\":\"dash\"},\"type\":\"line\",\"x0\":\"2024-03-03\",\"x1\":\"2024-07-16\",\"y0\":20,\"y1\":20}],\"title\":{\"font\":{\"size\":14},\"text\":\"EURUSD\",\"x\":0.02,\"xanchor\":\"left\",\"y\":0.85,\"yanchor\":\"top\"},\"yaxis\":{\"title\":{\"text\":\"Price [$]\"},\"range\":[0,100]},\"height\":500,\"width\":800},                        {\"responsive\": true}                    ).then(function(){\n",
              "                            \n",
              "var gd = document.getElementById('49dc6bc3-8599-4a87-8831-6e945150f6d0');\n",
              "var x = new MutationObserver(function (mutations, observer) {{\n",
              "        var display = window.getComputedStyle(gd).display;\n",
              "        if (!display || display === 'none') {{\n",
              "            console.log([gd, 'removed!']);\n",
              "            Plotly.purge(gd);\n",
              "            observer.disconnect();\n",
              "        }}\n",
              "}});\n",
              "\n",
              "// Listen for the removal of the full notebook cells\n",
              "var notebookContainer = gd.closest('#notebook-container');\n",
              "if (notebookContainer) {{\n",
              "    x.observe(notebookContainer, {childList: true});\n",
              "}}\n",
              "\n",
              "// Listen for the clearing of the current output cell\n",
              "var outputEl = gd.closest('.output');\n",
              "if (outputEl) {{\n",
              "    x.observe(outputEl, {childList: true});\n",
              "}}\n",
              "\n",
              "                        })                };                            </script>        </div>\n",
              "</body>\n",
              "</html>"
            ]
          },
          "metadata": {}
        }
      ]
    },
    {
      "cell_type": "code",
      "source": [
        "from plotly.subplots import make_subplots\n",
        "\n",
        "def chart_stochastic_oscillator_and_price(ticker, df):\n",
        "    # Calculate moving averages\n",
        "    df['ma50'] = df['close'].rolling(50).mean()\n",
        "    df['ma200'] = df['close'].rolling(200).mean()\n",
        "\n",
        "    fig = make_subplots(rows=2, cols=1, shared_xaxes=True,\n",
        "                        row_heights=[0.7, 0.3], vertical_spacing=0.02,\n",
        "                        subplot_titles=(ticker, ''))\n",
        "\n",
        "    fig.add_trace(go.Scatter(x=df['time'], y=df['close'], mode='lines', name='Close', line=dict(color='black', width=1)), row=1, col=1)\n",
        "    fig.add_trace(go.Scatter(x=df['time'], y=df['ma50'], mode='lines', name='MA50', line=dict(color='blue', width=1)), row=1, col=1)\n",
        "    fig.add_trace(go.Scatter(x=df['time'], y=df['ma200'], mode='lines', name='MA200', line=dict(color='red', width=1)), row=1, col=1)\n",
        "\n",
        "    fig.add_trace(go.Scatter(x=df['time'], y=df['fast_k'], mode='lines', name='fast_k', line=dict(color='orange', width=1)), row=2, col=1)\n",
        "    fig.add_trace(go.Scatter(x=df['time'], y=df['fast_d'], mode='lines', name='fast_d', line=dict(color='grey', width=1)), row=2, col=1)\n",
        "    fig.add_trace(go.Scatter(x=df['time'], y=df['slow_d'], mode='lines', name='slow_d', line=dict(color='green', width=1)), row=2, col=1)\n",
        "\n",
        "    fig.add_shape(type='line', x0=df['time'].min(), x1=df['time'].max(), y0=80, y1=80, line=dict(color='blue', dash='dash'), row=2, col=1)\n",
        "    fig.add_shape(type='line', x0=df['time'].min(), x1=df['time'].max(), y0=20, y1=20, line=dict(color='red', dash='dash'), row=2, col=1)\n",
        "\n",
        "    fig.update_layout(\n",
        "        height=800,\n",
        "        width=1000,\n",
        "        template='plotly_white',\n",
        "        showlegend=True\n",
        "    )\n",
        "\n",
        "    fig.update_yaxes(title_text='Price [$]', row=1, col=1)\n",
        "    fig.update_yaxes(title_text='S.O.', range=[0, 100], row=2, col=1)\n",
        "    fig.update_xaxes(title_text='Time', row=2, col=1)\n",
        "\n",
        "    fig.show()\n"
      ],
      "metadata": {
        "id": "FxnGv-qBiuOj"
      },
      "execution_count": null,
      "outputs": []
    },
    {
      "cell_type": "code",
      "source": [
        "chart_stochastic_oscillator_and_price(symbol.symbol, df)"
      ],
      "metadata": {
        "colab": {
          "base_uri": "https://localhost:8080/",
          "height": 817
        },
        "id": "I1nUpM38n7Lc",
        "outputId": "4d0ad44d-08d0-461e-e4ad-0b178c677182"
      },
      "execution_count": null,
      "outputs": [
        {
          "output_type": "display_data",
          "data": {
            "text/html": [
              "<html>\n",
              "<head><meta charset=\"utf-8\" /></head>\n",
              "<body>\n",
              "    <div>            <script src=\"https://cdnjs.cloudflare.com/ajax/libs/mathjax/2.7.5/MathJax.js?config=TeX-AMS-MML_SVG\"></script><script type=\"text/javascript\">if (window.MathJax && window.MathJax.Hub && window.MathJax.Hub.Config) {window.MathJax.Hub.Config({SVG: {font: \"STIX-Web\"}});}</script>                <script type=\"text/javascript\">window.PlotlyConfig = {MathJaxConfig: 'local'};</script>\n",
              "        <script charset=\"utf-8\" src=\"https://cdn.plot.ly/plotly-2.24.1.min.js\"></script>                <div id=\"92056510-0704-4d8e-a2e3-683b4f510e0d\" class=\"plotly-graph-div\" style=\"height:800px; width:1000px;\"></div>            <script type=\"text/javascript\">                                    window.PLOTLYENV=window.PLOTLYENV || {};                                    if (document.getElementById(\"92056510-0704-4d8e-a2e3-683b4f510e0d\")) {                    Plotly.newPlot(                        \"92056510-0704-4d8e-a2e3-683b4f510e0d\",                        [{\"line\":{\"color\":\"black\",\"width\":1},\"mode\":\"lines\",\"name\":\"Close\",\"x\":[\"2024-03-03\",\"2024-03-04\",\"2024-03-05\",\"2024-03-06\",\"2024-03-07\",\"2024-03-08\",\"2024-03-09\",\"2024-03-11\",\"2024-03-12\",\"2024-03-13\",\"2024-03-14\",\"2024-03-15\",\"2024-03-16\",\"2024-03-18\",\"2024-03-19\",\"2024-03-20\",\"2024-03-21\",\"2024-03-22\",\"2024-03-23\",\"2024-03-25\",\"2024-03-26\",\"2024-03-27\",\"2024-03-28\",\"2024-03-29\",\"2024-03-30\",\"2024-04-01\",\"2024-04-02\",\"2024-04-03\",\"2024-04-04\",\"2024-04-05\",\"2024-04-06\",\"2024-04-08\",\"2024-04-09\",\"2024-04-10\",\"2024-04-11\",\"2024-04-12\",\"2024-04-13\",\"2024-04-15\",\"2024-04-16\",\"2024-04-17\",\"2024-04-18\",\"2024-04-19\",\"2024-04-20\",\"2024-04-22\",\"2024-04-23\",\"2024-04-24\",\"2024-04-25\",\"2024-04-26\",\"2024-04-27\",\"2024-04-29\",\"2024-04-30\",\"2024-05-01\",\"2024-05-02\",\"2024-05-03\",\"2024-05-04\",\"2024-05-06\",\"2024-05-07\",\"2024-05-08\",\"2024-05-09\",\"2024-05-10\",\"2024-05-11\",\"2024-05-13\",\"2024-05-14\",\"2024-05-15\",\"2024-05-17\",\"2024-05-18\",\"2024-05-20\",\"2024-05-21\",\"2024-05-22\",\"2024-05-23\",\"2024-05-24\",\"2024-05-25\",\"2024-05-27\",\"2024-05-28\",\"2024-05-29\",\"2024-05-30\",\"2024-05-31\",\"2024-06-01\",\"2024-06-03\",\"2024-06-04\",\"2024-06-05\",\"2024-06-06\",\"2024-06-07\",\"2024-06-08\",\"2024-06-10\",\"2024-06-11\",\"2024-06-12\",\"2024-06-13\",\"2024-06-14\",\"2024-06-15\",\"2024-06-17\",\"2024-06-18\",\"2024-06-19\",\"2024-06-20\",\"2024-06-21\",\"2024-06-22\",\"2024-06-24\",\"2024-06-25\",\"2024-06-26\",\"2024-06-27\",\"2024-06-28\",\"2024-06-29\",\"2024-07-01\",\"2024-07-02\",\"2024-07-03\",\"2024-07-04\",\"2024-07-05\",\"2024-07-06\",\"2024-07-08\",\"2024-07-09\",\"2024-07-10\",\"2024-07-11\",\"2024-07-12\",\"2024-07-13\",\"2024-07-15\",\"2024-07-16\"],\"y\":[1.08385,1.0854,1.08548,1.0899,1.09507,1.09394,1.0938,1.09307,1.09265,1.09523,1.08825,1.08874,1.08873,1.08729,1.08617,1.0937,1.08619,1.0808,1.08072,1.08367,1.08324,1.08124,1.07912,1.0791,1.07924,1.0737,1.07672,1.0838,1.08357,1.08357,1.08295,1.08621,1.08585,1.07412,1.07259,1.06403,1.06457,1.06245,1.06202,1.06685,1.06426,1.06559,1.06575,1.06539,1.07016,1.06999,1.0727,1.06934,1.07069,1.07145,1.06651,1.07167,1.07295,1.07621,1.07579,1.07671,1.07499,1.07467,1.07816,1.07685,1.07701,1.0792,1.08054,1.08677,1.08691,1.0872,1.08603,1.0854,1.08249,1.08114,1.08453,1.08457,1.08614,1.08512,1.08009,1.08311,1.08483,1.08525,1.09072,1.08809,1.0874,1.08909,1.08008,1.0779,1.07634,1.07391,1.08126,1.07372,1.07011,1.07024,1.07396,1.07385,1.07469,1.07056,1.06916,1.06878,1.07319,1.07091,1.06796,1.07076,1.07122,1.07349,1.07364,1.07478,1.0791,1.08104,1.0838,1.08254,1.08303,1.08136,1.0833,1.08741,1.09039,1.08855,1.08974,1.08984],\"type\":\"scatter\",\"xaxis\":\"x\",\"yaxis\":\"y\"},{\"line\":{\"color\":\"blue\",\"width\":1},\"mode\":\"lines\",\"name\":\"MA50\",\"x\":[\"2024-03-03\",\"2024-03-04\",\"2024-03-05\",\"2024-03-06\",\"2024-03-07\",\"2024-03-08\",\"2024-03-09\",\"2024-03-11\",\"2024-03-12\",\"2024-03-13\",\"2024-03-14\",\"2024-03-15\",\"2024-03-16\",\"2024-03-18\",\"2024-03-19\",\"2024-03-20\",\"2024-03-21\",\"2024-03-22\",\"2024-03-23\",\"2024-03-25\",\"2024-03-26\",\"2024-03-27\",\"2024-03-28\",\"2024-03-29\",\"2024-03-30\",\"2024-04-01\",\"2024-04-02\",\"2024-04-03\",\"2024-04-04\",\"2024-04-05\",\"2024-04-06\",\"2024-04-08\",\"2024-04-09\",\"2024-04-10\",\"2024-04-11\",\"2024-04-12\",\"2024-04-13\",\"2024-04-15\",\"2024-04-16\",\"2024-04-17\",\"2024-04-18\",\"2024-04-19\",\"2024-04-20\",\"2024-04-22\",\"2024-04-23\",\"2024-04-24\",\"2024-04-25\",\"2024-04-26\",\"2024-04-27\",\"2024-04-29\",\"2024-04-30\",\"2024-05-01\",\"2024-05-02\",\"2024-05-03\",\"2024-05-04\",\"2024-05-06\",\"2024-05-07\",\"2024-05-08\",\"2024-05-09\",\"2024-05-10\",\"2024-05-11\",\"2024-05-13\",\"2024-05-14\",\"2024-05-15\",\"2024-05-17\",\"2024-05-18\",\"2024-05-20\",\"2024-05-21\",\"2024-05-22\",\"2024-05-23\",\"2024-05-24\",\"2024-05-25\",\"2024-05-27\",\"2024-05-28\",\"2024-05-29\",\"2024-05-30\",\"2024-05-31\",\"2024-06-01\",\"2024-06-03\",\"2024-06-04\",\"2024-06-05\",\"2024-06-06\",\"2024-06-07\",\"2024-06-08\",\"2024-06-10\",\"2024-06-11\",\"2024-06-12\",\"2024-06-13\",\"2024-06-14\",\"2024-06-15\",\"2024-06-17\",\"2024-06-18\",\"2024-06-19\",\"2024-06-20\",\"2024-06-21\",\"2024-06-22\",\"2024-06-24\",\"2024-06-25\",\"2024-06-26\",\"2024-06-27\",\"2024-06-28\",\"2024-06-29\",\"2024-07-01\",\"2024-07-02\",\"2024-07-03\",\"2024-07-04\",\"2024-07-05\",\"2024-07-06\",\"2024-07-08\",\"2024-07-09\",\"2024-07-10\",\"2024-07-11\",\"2024-07-12\",\"2024-07-13\",\"2024-07-15\",\"2024-07-16\"],\"y\":[null,null,null,null,null,null,null,null,null,null,null,null,null,null,null,null,null,null,null,null,null,null,null,null,null,null,null,null,null,null,null,null,null,null,null,null,null,null,null,null,null,null,null,null,null,null,null,null,null,1.0796582,1.0793114,1.0790368000000001,1.0787862,1.0785124,1.0781268,1.0777822000000001,1.077406,1.077038,1.0767482,1.0763806,1.0761558,1.0759649999999998,1.0758012000000001,1.0757907999999998,1.0758056,1.0756755999999998,1.0756724,1.0757644,1.0757998,1.0757492,1.075775,1.0758416000000002,1.075982,1.0761024000000001,1.0761193999999998,1.0763076,1.0764698,1.0764988,1.0766418,1.0767322,1.0768212,1.0768788,1.0767634000000001,1.076839,1.076914,1.0771116,1.0774454,1.0776708,1.0778326,1.0779004,1.0780944000000001,1.0782596,1.0784384,1.0785418,1.0785218,1.0784976,1.0785074000000001,1.0785388,1.0784842000000001,1.0784704,1.0785646,1.078601,1.0786148,1.0785862,1.0786524,1.078739,1.0789152,1.0790726000000002,1.07917,1.0792602,1.0793860000000002,1.0795502000000001,1.0797472,1.0797828,1.0798394,1.0798922],\"type\":\"scatter\",\"xaxis\":\"x\",\"yaxis\":\"y\"},{\"line\":{\"color\":\"red\",\"width\":1},\"mode\":\"lines\",\"name\":\"MA200\",\"x\":[\"2024-03-03\",\"2024-03-04\",\"2024-03-05\",\"2024-03-06\",\"2024-03-07\",\"2024-03-08\",\"2024-03-09\",\"2024-03-11\",\"2024-03-12\",\"2024-03-13\",\"2024-03-14\",\"2024-03-15\",\"2024-03-16\",\"2024-03-18\",\"2024-03-19\",\"2024-03-20\",\"2024-03-21\",\"2024-03-22\",\"2024-03-23\",\"2024-03-25\",\"2024-03-26\",\"2024-03-27\",\"2024-03-28\",\"2024-03-29\",\"2024-03-30\",\"2024-04-01\",\"2024-04-02\",\"2024-04-03\",\"2024-04-04\",\"2024-04-05\",\"2024-04-06\",\"2024-04-08\",\"2024-04-09\",\"2024-04-10\",\"2024-04-11\",\"2024-04-12\",\"2024-04-13\",\"2024-04-15\",\"2024-04-16\",\"2024-04-17\",\"2024-04-18\",\"2024-04-19\",\"2024-04-20\",\"2024-04-22\",\"2024-04-23\",\"2024-04-24\",\"2024-04-25\",\"2024-04-26\",\"2024-04-27\",\"2024-04-29\",\"2024-04-30\",\"2024-05-01\",\"2024-05-02\",\"2024-05-03\",\"2024-05-04\",\"2024-05-06\",\"2024-05-07\",\"2024-05-08\",\"2024-05-09\",\"2024-05-10\",\"2024-05-11\",\"2024-05-13\",\"2024-05-14\",\"2024-05-15\",\"2024-05-17\",\"2024-05-18\",\"2024-05-20\",\"2024-05-21\",\"2024-05-22\",\"2024-05-23\",\"2024-05-24\",\"2024-05-25\",\"2024-05-27\",\"2024-05-28\",\"2024-05-29\",\"2024-05-30\",\"2024-05-31\",\"2024-06-01\",\"2024-06-03\",\"2024-06-04\",\"2024-06-05\",\"2024-06-06\",\"2024-06-07\",\"2024-06-08\",\"2024-06-10\",\"2024-06-11\",\"2024-06-12\",\"2024-06-13\",\"2024-06-14\",\"2024-06-15\",\"2024-06-17\",\"2024-06-18\",\"2024-06-19\",\"2024-06-20\",\"2024-06-21\",\"2024-06-22\",\"2024-06-24\",\"2024-06-25\",\"2024-06-26\",\"2024-06-27\",\"2024-06-28\",\"2024-06-29\",\"2024-07-01\",\"2024-07-02\",\"2024-07-03\",\"2024-07-04\",\"2024-07-05\",\"2024-07-06\",\"2024-07-08\",\"2024-07-09\",\"2024-07-10\",\"2024-07-11\",\"2024-07-12\",\"2024-07-13\",\"2024-07-15\",\"2024-07-16\"],\"y\":[null,null,null,null,null,null,null,null,null,null,null,null,null,null,null,null,null,null,null,null,null,null,null,null,null,null,null,null,null,null,null,null,null,null,null,null,null,null,null,null,null,null,null,null,null,null,null,null,null,null,null,null,null,null,null,null,null,null,null,null,null,null,null,null,null,null,null,null,null,null,null,null,null,null,null,null,null,null,null,null,null,null,null,null,null,null,null,null,null,null,null,null,null,null,null,null,null,null,null,null,null,null,null,null,null,null,null,null,null,null,null,null,null,null,null,null],\"type\":\"scatter\",\"xaxis\":\"x\",\"yaxis\":\"y\"},{\"line\":{\"color\":\"orange\",\"width\":1},\"mode\":\"lines\",\"name\":\"fast_k\",\"x\":[\"2024-03-03\",\"2024-03-04\",\"2024-03-05\",\"2024-03-06\",\"2024-03-07\",\"2024-03-08\",\"2024-03-09\",\"2024-03-11\",\"2024-03-12\",\"2024-03-13\",\"2024-03-14\",\"2024-03-15\",\"2024-03-16\",\"2024-03-18\",\"2024-03-19\",\"2024-03-20\",\"2024-03-21\",\"2024-03-22\",\"2024-03-23\",\"2024-03-25\",\"2024-03-26\",\"2024-03-27\",\"2024-03-28\",\"2024-03-29\",\"2024-03-30\",\"2024-04-01\",\"2024-04-02\",\"2024-04-03\",\"2024-04-04\",\"2024-04-05\",\"2024-04-06\",\"2024-04-08\",\"2024-04-09\",\"2024-04-10\",\"2024-04-11\",\"2024-04-12\",\"2024-04-13\",\"2024-04-15\",\"2024-04-16\",\"2024-04-17\",\"2024-04-18\",\"2024-04-19\",\"2024-04-20\",\"2024-04-22\",\"2024-04-23\",\"2024-04-24\",\"2024-04-25\",\"2024-04-26\",\"2024-04-27\",\"2024-04-29\",\"2024-04-30\",\"2024-05-01\",\"2024-05-02\",\"2024-05-03\",\"2024-05-04\",\"2024-05-06\",\"2024-05-07\",\"2024-05-08\",\"2024-05-09\",\"2024-05-10\",\"2024-05-11\",\"2024-05-13\",\"2024-05-14\",\"2024-05-15\",\"2024-05-17\",\"2024-05-18\",\"2024-05-20\",\"2024-05-21\",\"2024-05-22\",\"2024-05-23\",\"2024-05-24\",\"2024-05-25\",\"2024-05-27\",\"2024-05-28\",\"2024-05-29\",\"2024-05-30\",\"2024-05-31\",\"2024-06-01\",\"2024-06-03\",\"2024-06-04\",\"2024-06-05\",\"2024-06-06\",\"2024-06-07\",\"2024-06-08\",\"2024-06-10\",\"2024-06-11\",\"2024-06-12\",\"2024-06-13\",\"2024-06-14\",\"2024-06-15\",\"2024-06-17\",\"2024-06-18\",\"2024-06-19\",\"2024-06-20\",\"2024-06-21\",\"2024-06-22\",\"2024-06-24\",\"2024-06-25\",\"2024-06-26\",\"2024-06-27\",\"2024-06-28\",\"2024-06-29\",\"2024-07-01\",\"2024-07-02\",\"2024-07-03\",\"2024-07-04\",\"2024-07-05\",\"2024-07-06\",\"2024-07-08\",\"2024-07-09\",\"2024-07-10\",\"2024-07-11\",\"2024-07-12\",\"2024-07-13\",\"2024-07-15\",\"2024-07-16\"],\"y\":[null,null,null,null,null,null,null,null,null,null,null,null,null,null,7.83316378433529,84.30769230769187,0.2207505518753788,0.0,0.0,20.33080634045488,17.367332873880592,3.583735354928154,0.0,0.0,0.9589041095892432,0.0,15.09999999999916,50.5000000000005,49.349999999999625,79.02321857485917,91.58415841584142,100.0,97.12230215827401,3.3573141486800298,0.0,0.0,2.434625788999045,0.0,0.0,19.96692848284467,9.260024803637974,14.758164530798194,15.41959487391493,13.931376601902043,33.65026870607713,33.44523709609747,88.26446280991755,68.53932584269641,81.1797752808983,88.29588014981302,42.04119850187355,90.3558052434449,100.0,100.0,96.11829944547057,100.0,84.80565371024588,79.99999999999956,100.0,88.75536480686756,90.12875536480695,100.0,100.0,100.0,100.0,100.0,90.66241021548363,85.63447725458872,62.41021548284104,51.63607342378301,78.69114126097394,74.58937198067686,89.75845410628162,79.58783120706697,11.125000000000709,42.475386779184866,66.66666666666666,72.57383966244852,100.0,75.25870178739483,68.76763875823127,84.66603951081812,0.0,0.0,0.0,0.0,43.723973825105254,0.0,0.0,0.6307617661338448,18.680252304707075,18.146530810286627,24.13066385669141,2.3709167544787224,0.0,0.0,35.33653846153853,17.067307692307352,0.0,21.052631578946578,48.43982169390918,82.16939078752029,84.3982169390786,100.0,100.0,100.0,100.0,92.04545454545435,95.1388888888879,84.59595959595968,96.8434343434333,100.0,100.0,90.40166927490833,96.1538461538459,96.71641791044748],\"type\":\"scatter\",\"xaxis\":\"x2\",\"yaxis\":\"y2\"},{\"line\":{\"color\":\"grey\",\"width\":1},\"mode\":\"lines\",\"name\":\"fast_d\",\"x\":[\"2024-03-03\",\"2024-03-04\",\"2024-03-05\",\"2024-03-06\",\"2024-03-07\",\"2024-03-08\",\"2024-03-09\",\"2024-03-11\",\"2024-03-12\",\"2024-03-13\",\"2024-03-14\",\"2024-03-15\",\"2024-03-16\",\"2024-03-18\",\"2024-03-19\",\"2024-03-20\",\"2024-03-21\",\"2024-03-22\",\"2024-03-23\",\"2024-03-25\",\"2024-03-26\",\"2024-03-27\",\"2024-03-28\",\"2024-03-29\",\"2024-03-30\",\"2024-04-01\",\"2024-04-02\",\"2024-04-03\",\"2024-04-04\",\"2024-04-05\",\"2024-04-06\",\"2024-04-08\",\"2024-04-09\",\"2024-04-10\",\"2024-04-11\",\"2024-04-12\",\"2024-04-13\",\"2024-04-15\",\"2024-04-16\",\"2024-04-17\",\"2024-04-18\",\"2024-04-19\",\"2024-04-20\",\"2024-04-22\",\"2024-04-23\",\"2024-04-24\",\"2024-04-25\",\"2024-04-26\",\"2024-04-27\",\"2024-04-29\",\"2024-04-30\",\"2024-05-01\",\"2024-05-02\",\"2024-05-03\",\"2024-05-04\",\"2024-05-06\",\"2024-05-07\",\"2024-05-08\",\"2024-05-09\",\"2024-05-10\",\"2024-05-11\",\"2024-05-13\",\"2024-05-14\",\"2024-05-15\",\"2024-05-17\",\"2024-05-18\",\"2024-05-20\",\"2024-05-21\",\"2024-05-22\",\"2024-05-23\",\"2024-05-24\",\"2024-05-25\",\"2024-05-27\",\"2024-05-28\",\"2024-05-29\",\"2024-05-30\",\"2024-05-31\",\"2024-06-01\",\"2024-06-03\",\"2024-06-04\",\"2024-06-05\",\"2024-06-06\",\"2024-06-07\",\"2024-06-08\",\"2024-06-10\",\"2024-06-11\",\"2024-06-12\",\"2024-06-13\",\"2024-06-14\",\"2024-06-15\",\"2024-06-17\",\"2024-06-18\",\"2024-06-19\",\"2024-06-20\",\"2024-06-21\",\"2024-06-22\",\"2024-06-24\",\"2024-06-25\",\"2024-06-26\",\"2024-06-27\",\"2024-06-28\",\"2024-06-29\",\"2024-07-01\",\"2024-07-02\",\"2024-07-03\",\"2024-07-04\",\"2024-07-05\",\"2024-07-06\",\"2024-07-08\",\"2024-07-09\",\"2024-07-10\",\"2024-07-11\",\"2024-07-12\",\"2024-07-13\",\"2024-07-15\",\"2024-07-16\"],\"y\":[null,null,null,null,null,null,null,null,null,null,null,null,null,null,null,null,30.79,28.18,0.07,6.78,12.57,13.76,6.98,1.19,0.32,0.32,5.35,21.87,38.32,59.62,73.32,90.2,96.24,66.83,33.49,1.12,0.81,0.81,0.81,6.66,9.74,14.66,13.15,14.7,21.0,27.01,51.79,63.42,79.33,79.34,70.51,73.56,77.47,96.79,98.71,98.71,93.64,88.27,88.27,89.59,92.96,92.96,96.71,100.0,100.0,100.0,96.89,92.1,79.57,66.56,64.25,68.31,81.01,81.31,60.16,44.4,40.09,60.57,79.75,82.61,81.34,76.23,51.14,28.22,0.0,0.0,14.57,14.57,14.57,0.21,6.44,12.49,20.32,14.88,8.83,0.79,11.78,17.47,17.47,12.71,23.16,50.55,71.67,88.86,94.8,100.0,100.0,97.35,95.73,90.59,92.19,93.81,98.95,96.8,95.52,94.42],\"type\":\"scatter\",\"xaxis\":\"x2\",\"yaxis\":\"y2\"},{\"line\":{\"color\":\"green\",\"width\":1},\"mode\":\"lines\",\"name\":\"slow_d\",\"x\":[\"2024-03-03\",\"2024-03-04\",\"2024-03-05\",\"2024-03-06\",\"2024-03-07\",\"2024-03-08\",\"2024-03-09\",\"2024-03-11\",\"2024-03-12\",\"2024-03-13\",\"2024-03-14\",\"2024-03-15\",\"2024-03-16\",\"2024-03-18\",\"2024-03-19\",\"2024-03-20\",\"2024-03-21\",\"2024-03-22\",\"2024-03-23\",\"2024-03-25\",\"2024-03-26\",\"2024-03-27\",\"2024-03-28\",\"2024-03-29\",\"2024-03-30\",\"2024-04-01\",\"2024-04-02\",\"2024-04-03\",\"2024-04-04\",\"2024-04-05\",\"2024-04-06\",\"2024-04-08\",\"2024-04-09\",\"2024-04-10\",\"2024-04-11\",\"2024-04-12\",\"2024-04-13\",\"2024-04-15\",\"2024-04-16\",\"2024-04-17\",\"2024-04-18\",\"2024-04-19\",\"2024-04-20\",\"2024-04-22\",\"2024-04-23\",\"2024-04-24\",\"2024-04-25\",\"2024-04-26\",\"2024-04-27\",\"2024-04-29\",\"2024-04-30\",\"2024-05-01\",\"2024-05-02\",\"2024-05-03\",\"2024-05-04\",\"2024-05-06\",\"2024-05-07\",\"2024-05-08\",\"2024-05-09\",\"2024-05-10\",\"2024-05-11\",\"2024-05-13\",\"2024-05-14\",\"2024-05-15\",\"2024-05-17\",\"2024-05-18\",\"2024-05-20\",\"2024-05-21\",\"2024-05-22\",\"2024-05-23\",\"2024-05-24\",\"2024-05-25\",\"2024-05-27\",\"2024-05-28\",\"2024-05-29\",\"2024-05-30\",\"2024-05-31\",\"2024-06-01\",\"2024-06-03\",\"2024-06-04\",\"2024-06-05\",\"2024-06-06\",\"2024-06-07\",\"2024-06-08\",\"2024-06-10\",\"2024-06-11\",\"2024-06-12\",\"2024-06-13\",\"2024-06-14\",\"2024-06-15\",\"2024-06-17\",\"2024-06-18\",\"2024-06-19\",\"2024-06-20\",\"2024-06-21\",\"2024-06-22\",\"2024-06-24\",\"2024-06-25\",\"2024-06-26\",\"2024-06-27\",\"2024-06-28\",\"2024-06-29\",\"2024-07-01\",\"2024-07-02\",\"2024-07-03\",\"2024-07-04\",\"2024-07-05\",\"2024-07-06\",\"2024-07-08\",\"2024-07-09\",\"2024-07-10\",\"2024-07-11\",\"2024-07-12\",\"2024-07-13\",\"2024-07-15\",\"2024-07-16\"],\"y\":[null,null,null,null,null,null,null,null,null,null,null,null,null,null,null,null,null,null,19.68,11.68,6.47,11.04,11.1,7.31,2.83,0.61,2.0,9.18,21.85,39.94,57.09,74.38,86.59,84.42,65.52,33.81,11.81,0.91,0.81,2.76,5.74,10.35,12.52,14.17,16.28,20.9,33.27,47.41,64.85,74.03,76.39,74.47,73.85,82.61,90.99,98.07,97.02,93.54,90.06,88.71,90.27,91.84,94.21,96.56,98.9,100.0,98.96,96.33,89.52,79.41,70.13,66.37,71.19,76.88,74.16,61.96,48.22,48.35,60.14,74.31,81.23,80.06,69.57,51.86,26.45,9.41,4.86,9.71,14.57,9.78,7.07,6.38,13.08,15.9,14.68,8.17,7.13,10.01,15.57,15.88,17.78,28.81,48.46,70.36,85.11,94.55,98.27,99.12,97.69,94.56,92.84,92.2,94.98,96.52,97.09,95.58],\"type\":\"scatter\",\"xaxis\":\"x2\",\"yaxis\":\"y2\"}],                        {\"template\":{\"data\":{\"barpolar\":[{\"marker\":{\"line\":{\"color\":\"white\",\"width\":0.5},\"pattern\":{\"fillmode\":\"overlay\",\"size\":10,\"solidity\":0.2}},\"type\":\"barpolar\"}],\"bar\":[{\"error_x\":{\"color\":\"#2a3f5f\"},\"error_y\":{\"color\":\"#2a3f5f\"},\"marker\":{\"line\":{\"color\":\"white\",\"width\":0.5},\"pattern\":{\"fillmode\":\"overlay\",\"size\":10,\"solidity\":0.2}},\"type\":\"bar\"}],\"carpet\":[{\"aaxis\":{\"endlinecolor\":\"#2a3f5f\",\"gridcolor\":\"#C8D4E3\",\"linecolor\":\"#C8D4E3\",\"minorgridcolor\":\"#C8D4E3\",\"startlinecolor\":\"#2a3f5f\"},\"baxis\":{\"endlinecolor\":\"#2a3f5f\",\"gridcolor\":\"#C8D4E3\",\"linecolor\":\"#C8D4E3\",\"minorgridcolor\":\"#C8D4E3\",\"startlinecolor\":\"#2a3f5f\"},\"type\":\"carpet\"}],\"choropleth\":[{\"colorbar\":{\"outlinewidth\":0,\"ticks\":\"\"},\"type\":\"choropleth\"}],\"contourcarpet\":[{\"colorbar\":{\"outlinewidth\":0,\"ticks\":\"\"},\"type\":\"contourcarpet\"}],\"contour\":[{\"colorbar\":{\"outlinewidth\":0,\"ticks\":\"\"},\"colorscale\":[[0.0,\"#0d0887\"],[0.1111111111111111,\"#46039f\"],[0.2222222222222222,\"#7201a8\"],[0.3333333333333333,\"#9c179e\"],[0.4444444444444444,\"#bd3786\"],[0.5555555555555556,\"#d8576b\"],[0.6666666666666666,\"#ed7953\"],[0.7777777777777778,\"#fb9f3a\"],[0.8888888888888888,\"#fdca26\"],[1.0,\"#f0f921\"]],\"type\":\"contour\"}],\"heatmapgl\":[{\"colorbar\":{\"outlinewidth\":0,\"ticks\":\"\"},\"colorscale\":[[0.0,\"#0d0887\"],[0.1111111111111111,\"#46039f\"],[0.2222222222222222,\"#7201a8\"],[0.3333333333333333,\"#9c179e\"],[0.4444444444444444,\"#bd3786\"],[0.5555555555555556,\"#d8576b\"],[0.6666666666666666,\"#ed7953\"],[0.7777777777777778,\"#fb9f3a\"],[0.8888888888888888,\"#fdca26\"],[1.0,\"#f0f921\"]],\"type\":\"heatmapgl\"}],\"heatmap\":[{\"colorbar\":{\"outlinewidth\":0,\"ticks\":\"\"},\"colorscale\":[[0.0,\"#0d0887\"],[0.1111111111111111,\"#46039f\"],[0.2222222222222222,\"#7201a8\"],[0.3333333333333333,\"#9c179e\"],[0.4444444444444444,\"#bd3786\"],[0.5555555555555556,\"#d8576b\"],[0.6666666666666666,\"#ed7953\"],[0.7777777777777778,\"#fb9f3a\"],[0.8888888888888888,\"#fdca26\"],[1.0,\"#f0f921\"]],\"type\":\"heatmap\"}],\"histogram2dcontour\":[{\"colorbar\":{\"outlinewidth\":0,\"ticks\":\"\"},\"colorscale\":[[0.0,\"#0d0887\"],[0.1111111111111111,\"#46039f\"],[0.2222222222222222,\"#7201a8\"],[0.3333333333333333,\"#9c179e\"],[0.4444444444444444,\"#bd3786\"],[0.5555555555555556,\"#d8576b\"],[0.6666666666666666,\"#ed7953\"],[0.7777777777777778,\"#fb9f3a\"],[0.8888888888888888,\"#fdca26\"],[1.0,\"#f0f921\"]],\"type\":\"histogram2dcontour\"}],\"histogram2d\":[{\"colorbar\":{\"outlinewidth\":0,\"ticks\":\"\"},\"colorscale\":[[0.0,\"#0d0887\"],[0.1111111111111111,\"#46039f\"],[0.2222222222222222,\"#7201a8\"],[0.3333333333333333,\"#9c179e\"],[0.4444444444444444,\"#bd3786\"],[0.5555555555555556,\"#d8576b\"],[0.6666666666666666,\"#ed7953\"],[0.7777777777777778,\"#fb9f3a\"],[0.8888888888888888,\"#fdca26\"],[1.0,\"#f0f921\"]],\"type\":\"histogram2d\"}],\"histogram\":[{\"marker\":{\"pattern\":{\"fillmode\":\"overlay\",\"size\":10,\"solidity\":0.2}},\"type\":\"histogram\"}],\"mesh3d\":[{\"colorbar\":{\"outlinewidth\":0,\"ticks\":\"\"},\"type\":\"mesh3d\"}],\"parcoords\":[{\"line\":{\"colorbar\":{\"outlinewidth\":0,\"ticks\":\"\"}},\"type\":\"parcoords\"}],\"pie\":[{\"automargin\":true,\"type\":\"pie\"}],\"scatter3d\":[{\"line\":{\"colorbar\":{\"outlinewidth\":0,\"ticks\":\"\"}},\"marker\":{\"colorbar\":{\"outlinewidth\":0,\"ticks\":\"\"}},\"type\":\"scatter3d\"}],\"scattercarpet\":[{\"marker\":{\"colorbar\":{\"outlinewidth\":0,\"ticks\":\"\"}},\"type\":\"scattercarpet\"}],\"scattergeo\":[{\"marker\":{\"colorbar\":{\"outlinewidth\":0,\"ticks\":\"\"}},\"type\":\"scattergeo\"}],\"scattergl\":[{\"marker\":{\"colorbar\":{\"outlinewidth\":0,\"ticks\":\"\"}},\"type\":\"scattergl\"}],\"scattermapbox\":[{\"marker\":{\"colorbar\":{\"outlinewidth\":0,\"ticks\":\"\"}},\"type\":\"scattermapbox\"}],\"scatterpolargl\":[{\"marker\":{\"colorbar\":{\"outlinewidth\":0,\"ticks\":\"\"}},\"type\":\"scatterpolargl\"}],\"scatterpolar\":[{\"marker\":{\"colorbar\":{\"outlinewidth\":0,\"ticks\":\"\"}},\"type\":\"scatterpolar\"}],\"scatter\":[{\"fillpattern\":{\"fillmode\":\"overlay\",\"size\":10,\"solidity\":0.2},\"type\":\"scatter\"}],\"scatterternary\":[{\"marker\":{\"colorbar\":{\"outlinewidth\":0,\"ticks\":\"\"}},\"type\":\"scatterternary\"}],\"surface\":[{\"colorbar\":{\"outlinewidth\":0,\"ticks\":\"\"},\"colorscale\":[[0.0,\"#0d0887\"],[0.1111111111111111,\"#46039f\"],[0.2222222222222222,\"#7201a8\"],[0.3333333333333333,\"#9c179e\"],[0.4444444444444444,\"#bd3786\"],[0.5555555555555556,\"#d8576b\"],[0.6666666666666666,\"#ed7953\"],[0.7777777777777778,\"#fb9f3a\"],[0.8888888888888888,\"#fdca26\"],[1.0,\"#f0f921\"]],\"type\":\"surface\"}],\"table\":[{\"cells\":{\"fill\":{\"color\":\"#EBF0F8\"},\"line\":{\"color\":\"white\"}},\"header\":{\"fill\":{\"color\":\"#C8D4E3\"},\"line\":{\"color\":\"white\"}},\"type\":\"table\"}]},\"layout\":{\"annotationdefaults\":{\"arrowcolor\":\"#2a3f5f\",\"arrowhead\":0,\"arrowwidth\":1},\"autotypenumbers\":\"strict\",\"coloraxis\":{\"colorbar\":{\"outlinewidth\":0,\"ticks\":\"\"}},\"colorscale\":{\"diverging\":[[0,\"#8e0152\"],[0.1,\"#c51b7d\"],[0.2,\"#de77ae\"],[0.3,\"#f1b6da\"],[0.4,\"#fde0ef\"],[0.5,\"#f7f7f7\"],[0.6,\"#e6f5d0\"],[0.7,\"#b8e186\"],[0.8,\"#7fbc41\"],[0.9,\"#4d9221\"],[1,\"#276419\"]],\"sequential\":[[0.0,\"#0d0887\"],[0.1111111111111111,\"#46039f\"],[0.2222222222222222,\"#7201a8\"],[0.3333333333333333,\"#9c179e\"],[0.4444444444444444,\"#bd3786\"],[0.5555555555555556,\"#d8576b\"],[0.6666666666666666,\"#ed7953\"],[0.7777777777777778,\"#fb9f3a\"],[0.8888888888888888,\"#fdca26\"],[1.0,\"#f0f921\"]],\"sequentialminus\":[[0.0,\"#0d0887\"],[0.1111111111111111,\"#46039f\"],[0.2222222222222222,\"#7201a8\"],[0.3333333333333333,\"#9c179e\"],[0.4444444444444444,\"#bd3786\"],[0.5555555555555556,\"#d8576b\"],[0.6666666666666666,\"#ed7953\"],[0.7777777777777778,\"#fb9f3a\"],[0.8888888888888888,\"#fdca26\"],[1.0,\"#f0f921\"]]},\"colorway\":[\"#636efa\",\"#EF553B\",\"#00cc96\",\"#ab63fa\",\"#FFA15A\",\"#19d3f3\",\"#FF6692\",\"#B6E880\",\"#FF97FF\",\"#FECB52\"],\"font\":{\"color\":\"#2a3f5f\"},\"geo\":{\"bgcolor\":\"white\",\"lakecolor\":\"white\",\"landcolor\":\"white\",\"showlakes\":true,\"showland\":true,\"subunitcolor\":\"#C8D4E3\"},\"hoverlabel\":{\"align\":\"left\"},\"hovermode\":\"closest\",\"mapbox\":{\"style\":\"light\"},\"paper_bgcolor\":\"white\",\"plot_bgcolor\":\"white\",\"polar\":{\"angularaxis\":{\"gridcolor\":\"#EBF0F8\",\"linecolor\":\"#EBF0F8\",\"ticks\":\"\"},\"bgcolor\":\"white\",\"radialaxis\":{\"gridcolor\":\"#EBF0F8\",\"linecolor\":\"#EBF0F8\",\"ticks\":\"\"}},\"scene\":{\"xaxis\":{\"backgroundcolor\":\"white\",\"gridcolor\":\"#DFE8F3\",\"gridwidth\":2,\"linecolor\":\"#EBF0F8\",\"showbackground\":true,\"ticks\":\"\",\"zerolinecolor\":\"#EBF0F8\"},\"yaxis\":{\"backgroundcolor\":\"white\",\"gridcolor\":\"#DFE8F3\",\"gridwidth\":2,\"linecolor\":\"#EBF0F8\",\"showbackground\":true,\"ticks\":\"\",\"zerolinecolor\":\"#EBF0F8\"},\"zaxis\":{\"backgroundcolor\":\"white\",\"gridcolor\":\"#DFE8F3\",\"gridwidth\":2,\"linecolor\":\"#EBF0F8\",\"showbackground\":true,\"ticks\":\"\",\"zerolinecolor\":\"#EBF0F8\"}},\"shapedefaults\":{\"line\":{\"color\":\"#2a3f5f\"}},\"ternary\":{\"aaxis\":{\"gridcolor\":\"#DFE8F3\",\"linecolor\":\"#A2B1C6\",\"ticks\":\"\"},\"baxis\":{\"gridcolor\":\"#DFE8F3\",\"linecolor\":\"#A2B1C6\",\"ticks\":\"\"},\"bgcolor\":\"white\",\"caxis\":{\"gridcolor\":\"#DFE8F3\",\"linecolor\":\"#A2B1C6\",\"ticks\":\"\"}},\"title\":{\"x\":0.05},\"xaxis\":{\"automargin\":true,\"gridcolor\":\"#EBF0F8\",\"linecolor\":\"#EBF0F8\",\"ticks\":\"\",\"title\":{\"standoff\":15},\"zerolinecolor\":\"#EBF0F8\",\"zerolinewidth\":2},\"yaxis\":{\"automargin\":true,\"gridcolor\":\"#EBF0F8\",\"linecolor\":\"#EBF0F8\",\"ticks\":\"\",\"title\":{\"standoff\":15},\"zerolinecolor\":\"#EBF0F8\",\"zerolinewidth\":2}}},\"xaxis\":{\"anchor\":\"y\",\"domain\":[0.0,1.0],\"matches\":\"x2\",\"showticklabels\":false},\"yaxis\":{\"anchor\":\"x\",\"domain\":[0.314,1.0],\"title\":{\"text\":\"Price [$]\"}},\"xaxis2\":{\"anchor\":\"y2\",\"domain\":[0.0,1.0],\"title\":{\"text\":\"Time\"}},\"yaxis2\":{\"anchor\":\"x2\",\"domain\":[0.0,0.294],\"title\":{\"text\":\"S.O.\"},\"range\":[0,100]},\"annotations\":[{\"font\":{\"size\":16},\"showarrow\":false,\"text\":\"EURUSD\",\"x\":0.5,\"xanchor\":\"center\",\"xref\":\"paper\",\"y\":1.0,\"yanchor\":\"bottom\",\"yref\":\"paper\"}],\"shapes\":[{\"line\":{\"color\":\"blue\",\"dash\":\"dash\"},\"type\":\"line\",\"x0\":\"2024-03-03\",\"x1\":\"2024-07-16\",\"xref\":\"x2\",\"y0\":80,\"y1\":80,\"yref\":\"y2\"},{\"line\":{\"color\":\"red\",\"dash\":\"dash\"},\"type\":\"line\",\"x0\":\"2024-03-03\",\"x1\":\"2024-07-16\",\"xref\":\"x2\",\"y0\":20,\"y1\":20,\"yref\":\"y2\"}],\"height\":800,\"width\":1000,\"showlegend\":true},                        {\"responsive\": true}                    ).then(function(){\n",
              "                            \n",
              "var gd = document.getElementById('92056510-0704-4d8e-a2e3-683b4f510e0d');\n",
              "var x = new MutationObserver(function (mutations, observer) {{\n",
              "        var display = window.getComputedStyle(gd).display;\n",
              "        if (!display || display === 'none') {{\n",
              "            console.log([gd, 'removed!']);\n",
              "            Plotly.purge(gd);\n",
              "            observer.disconnect();\n",
              "        }}\n",
              "}});\n",
              "\n",
              "// Listen for the removal of the full notebook cells\n",
              "var notebookContainer = gd.closest('#notebook-container');\n",
              "if (notebookContainer) {{\n",
              "    x.observe(notebookContainer, {childList: true});\n",
              "}}\n",
              "\n",
              "// Listen for the clearing of the current output cell\n",
              "var outputEl = gd.closest('.output');\n",
              "if (outputEl) {{\n",
              "    x.observe(outputEl, {childList: true});\n",
              "}}\n",
              "\n",
              "                        })                };                            </script>        </div>\n",
              "</body>\n",
              "</html>"
            ]
          },
          "metadata": {}
        }
      ]
    },
    {
      "cell_type": "code",
      "source": [],
      "metadata": {
        "id": "IuyysiD0oerM"
      },
      "execution_count": null,
      "outputs": []
    }
  ]
}